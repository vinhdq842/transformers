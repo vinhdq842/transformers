{
 "cells": [
  {
   "cell_type": "code",
   "execution_count": 4,
   "metadata": {},
   "outputs": [],
   "source": [
    "import torch\n",
    "from torch import nn\n",
    "from tqdm.notebook import tqdm\n",
    "import pandas as pd\n",
    "from sklearn.model_selection import train_test_split\n",
    "from nltk.tokenize import word_tokenize\n",
    "import re\n",
    "from ipywidgets import interact_manual\n",
    "import unicodedata\n",
    "import sys\n",
    " \n",
    "# setting path\n",
    "sys.path.append('../')\n",
    "from modules.encoder import Encoder\n",
    "from modules.utils import create_sequence_mask"
   ]
  },
  {
   "cell_type": "code",
   "execution_count": 8,
   "metadata": {},
   "outputs": [],
   "source": [
    "train_data = pd.read_csv('train_pr.csv')\n",
    "val_data = pd.read_csv('val_pr.csv')"
   ]
  },
  {
   "cell_type": "code",
   "execution_count": 9,
   "metadata": {},
   "outputs": [],
   "source": [
    "def preprocess_text(text:str):\n",
    "    text = unicodedata.normalize('NFC',text)\n",
    "    text = re.sub(r'&[a-z]+?;','',text)\n",
    "    text = re.sub(r'<[^>]+>',' _html_tag_ ',text)\n",
    "    text = re.sub(r'[a-zA-Z0-9-_][.a-zA-Z0-9-_]*@([.a-zA-Z0-9_-]+){,3}',' _email_ ',text)\n",
    "    text = re.sub(r'https?://[a-zA-Z0-9-_&.?/%=]*',' _url_link_ ',text)\n",
    "    text = re.sub(r'#[_a-zA-Z0-9]+',' _hash_tag_ ',text)\n",
    "    text = re.sub(r'@[_a-zA-Z0-9]+',' _tag_ ',text)\n",
    "    text = re.sub(r'[0-9][0-9.,]*',' _num_ ',text)\n",
    "    text = re.sub(r'[^\\sa-zA-Z0-9.,!;:/\\'^()=<>_?]','',text)\n",
    "    text = re.sub(r'(\\s*[.!?:;-]\\s*)+',r' \\1 ', text)\n",
    "    \n",
    "    return ' '.join(word_tokenize(text)).lower()"
   ]
  },
  {
   "cell_type": "code",
   "execution_count": 26,
   "metadata": {},
   "outputs": [
    {
     "data": {
      "application/vnd.jupyter.widget-view+json": {
       "model_id": "7e8cc12f0cdd4567bfdbb1d812c9044d",
       "version_major": 2,
       "version_minor": 0
      },
      "text/plain": [
       "interactive(children=(Text(value='', description='text'), Button(description='Run Interact', style=ButtonStyle…"
      ]
     },
     "metadata": {},
     "output_type": "display_data"
    }
   ],
   "source": [
    "@interact_manual\n",
    "def _(text=''):\n",
    "    return preprocess_text(text)"
   ]
  },
  {
   "cell_type": "code",
   "execution_count": 22,
   "metadata": {},
   "outputs": [],
   "source": [
    "\"\"\"\n",
    "tqdm.pandas()\n",
    "train_data['SentimentText'] = train_data['SentimentText'].progress_apply(preprocess_text)\n",
    "train_data.to_csv('train_pr.csv',index=False)\n",
    "val_data['SentimentText'] = val_data['SentimentText'].progress_apply(preprocess_text)\n",
    "val_data.to_csv('val_pr.csv',index=False)\n",
    "\"\"\""
   ]
  },
  {
   "cell_type": "code",
   "execution_count": 10,
   "metadata": {},
   "outputs": [],
   "source": [
    "from collections import Counter\n",
    "\n",
    "PAD = \"[PAD]\"\n",
    "UNK = \"[UNK]\"\n",
    "\n",
    "\n",
    "def build_vocab(df, min_freq=3):\n",
    "    counter = Counter()\n",
    "    for tweet in df.itertuples():\n",
    "        counter.update(tweet.SentimentText.split())\n",
    "\n",
    "    vocab = sorted([w for w, c in counter.items() if c >= min_freq])\n",
    "\n",
    "    w2i = {w: i for i, w in enumerate([PAD, UNK] + vocab)}\n",
    "    i2w = {v: k for k, v in w2i.items()}\n",
    "\n",
    "    return w2i, i2w\n",
    "\n",
    "\n",
    "w2i, i2w = build_vocab(train_data)"
   ]
  },
  {
   "cell_type": "code",
   "execution_count": 11,
   "metadata": {},
   "outputs": [],
   "source": [
    "from torch.utils.data import DataLoader, Dataset\n",
    "\n",
    "\n",
    "class TweetDataset(Dataset):\n",
    "    def __init__(self, df, vocab):\n",
    "        self.df = df\n",
    "        self.vocab = vocab\n",
    "\n",
    "    def __len__(self):\n",
    "        return len(self.df)\n",
    "\n",
    "    def __getitem__(self, index: int):\n",
    "        text = self.df[\"SentimentText\"].values[index].split()\n",
    "\n",
    "        return (\n",
    "            self.df[\"Sentiment\"].values[index],\n",
    "            [self.vocab.get(w, self.vocab[UNK]) for w in text],\n",
    "            len(text),\n",
    "        )\n",
    "\n",
    "\n",
    "class TweetDatasetCollate:\n",
    "    def __init__(self, max_length, vocab):\n",
    "        self.max_length = max_length\n",
    "        self.vocab = vocab\n",
    "\n",
    "    def __call__(self, batch):\n",
    "        labels = []\n",
    "        ids = []\n",
    "        lens = []\n",
    "\n",
    "        for label, idx, l in batch:\n",
    "            labels.append(label)\n",
    "            ids.append(\n",
    "                idx[: self.max_length]\n",
    "                + max(0, self.max_length - len(idx)) * [self.vocab[PAD]]\n",
    "            )\n",
    "            lens.append(l if l <= self.max_length else self.max_length)\n",
    "\n",
    "        return torch.LongTensor(labels), torch.LongTensor(ids), torch.LongTensor(lens)"
   ]
  },
  {
   "cell_type": "code",
   "execution_count": 12,
   "metadata": {},
   "outputs": [],
   "source": [
    "class EncoderClassifier(nn.Module):\n",
    "    def __init__(\n",
    "        self,\n",
    "        vocab_size: int,\n",
    "        n_heads: int,\n",
    "        max_length: int,\n",
    "        n_blocks: int,\n",
    "        d_model: int,\n",
    "        d_ff: int,\n",
    "        d_k: int,\n",
    "        d_v: int,\n",
    "        n_classes: int,\n",
    "        p_drop: float,\n",
    "    ):\n",
    "        super().__init__()\n",
    "        self.max_length = max_length\n",
    "        self.encoder = Encoder(\n",
    "            vocab_size, n_heads, max_length, n_blocks, d_model, d_ff, d_k, d_v, p_drop\n",
    "        )\n",
    "        self.fc = nn.Linear(d_model, n_classes)\n",
    "        self.dropout = nn.Dropout(p=p_drop)\n",
    "\n",
    "    def forward(self, x: torch.Tensor, x_lengths: torch.Tensor):\n",
    "        x_mask = create_sequence_mask(x_lengths, self.max_length)\n",
    "        x = torch.relu(self.encoder(x, x_mask))\n",
    "        return self.fc(self.dropout((x * x_mask.squeeze().unsqueeze(-1)).mean(dim=1)))"
   ]
  },
  {
   "cell_type": "code",
   "execution_count": 13,
   "metadata": {},
   "outputs": [],
   "source": [
    "vocab_size = len(w2i)\n",
    "max_length = 128\n",
    "n_heads = 8\n",
    "d_model = 128\n",
    "n_blocks = 4\n",
    "d_ff = 128\n",
    "d_k = d_v = d_model // n_heads\n",
    "p_drop = 0.4\n",
    "n_classes = 2\n",
    "batch_size = 128"
   ]
  },
  {
   "cell_type": "code",
   "execution_count": 14,
   "metadata": {},
   "outputs": [],
   "source": [
    "collate = TweetDatasetCollate(max_length, w2i)\n",
    "train_dl = DataLoader(\n",
    "    TweetDataset(train_data, w2i),\n",
    "    shuffle=True,\n",
    "    batch_size=batch_size,\n",
    "    collate_fn=collate,\n",
    ")\n",
    "val_dl = DataLoader(\n",
    "    TweetDataset(val_data, w2i), batch_size=batch_size * 2, collate_fn=collate\n",
    ")"
   ]
  },
  {
   "cell_type": "code",
   "execution_count": 15,
   "metadata": {},
   "outputs": [
    {
     "data": {
      "text/plain": [
       "device(type='cuda')"
      ]
     },
     "execution_count": 15,
     "metadata": {},
     "output_type": "execute_result"
    }
   ],
   "source": [
    "device = torch.device('cuda' if torch.cuda.is_available() else 'cpu');device"
   ]
  },
  {
   "cell_type": "code",
   "execution_count": 104,
   "metadata": {},
   "outputs": [],
   "source": [
    "clf = EncoderClassifier(\n",
    "    vocab_size,\n",
    "    n_heads,\n",
    "    max_length,\n",
    "    n_blocks,\n",
    "    d_model,\n",
    "    d_ff,\n",
    "    d_k,\n",
    "    d_v,\n",
    "    n_classes,\n",
    "    p_drop,\n",
    ").to(device)\n",
    "\n",
    "for p in clf.parameters():\n",
    "    if p.dim() > 1:\n",
    "        nn.init.xavier_uniform_(p)"
   ]
  },
  {
   "cell_type": "code",
   "execution_count": null,
   "metadata": {},
   "outputs": [],
   "source": [
    "from torch.optim import Adam\n",
    "from torch.optim.lr_scheduler import ExponentialLR\n",
    "\n",
    "optimizer = Adam(clf.parameters(), lr=0.0008, betas=(0.9, 0.98), weight_decay=0.001)\n",
    "loss_fn = nn.CrossEntropyLoss()\n",
    "scheduler = ExponentialLR(optimizer, 0.999**0.125)"
   ]
  },
  {
   "cell_type": "code",
   "execution_count": 106,
   "metadata": {},
   "outputs": [],
   "source": [
    "import os\n",
    "\n",
    "os.makedirs(\"checkpoints\", exist_ok=True)\n",
    "\n",
    "def train_and_eval(\n",
    "    model,\n",
    "    optimizer,\n",
    "    loss_fn,\n",
    "    scheduler,\n",
    "    epochs,\n",
    "    train_dl,\n",
    "    val_dl,\n",
    "    early_stopping=5,\n",
    "    model_name=\"sample_model\",\n",
    "):\n",
    "    p_bar = tqdm(total=len(train_dl))\n",
    "\n",
    "    best_val_loss = 25042001\n",
    "    patience = 0\n",
    "\n",
    "    for epoch in range(epochs):\n",
    "        train_loss = 0\n",
    "        train_corr = 0\n",
    "        val_loss = 0\n",
    "        val_corr = 0\n",
    "\n",
    "        model.train()\n",
    "        for y, x, x_len in train_dl:\n",
    "            y, x, x_len = y.to(device), x.to(device), x_len.to(device)\n",
    "\n",
    "            logits = model(x, x_len)\n",
    "            loss = loss_fn(logits, y)\n",
    "            optimizer.zero_grad()\n",
    "            loss.backward()\n",
    "            optimizer.step()\n",
    "\n",
    "            train_loss += loss.item()\n",
    "            train_corr += (y == logits.argmax(-1)).sum().item()\n",
    "            p_bar.update(1)\n",
    "        scheduler.step()\n",
    "\n",
    "        model.eval()\n",
    "        with torch.inference_mode():\n",
    "            for y, x, x_len in val_dl:\n",
    "                y, x, x_len = y.to(device), x.to(device), x_len.to(device)\n",
    "\n",
    "                logits = model(x, x_len)\n",
    "\n",
    "                val_loss += loss_fn(logits, y).item()\n",
    "                val_corr += (y == logits.argmax(-1)).sum().item()\n",
    "\n",
    "        train_loss /= len(train_dl)\n",
    "        val_loss /= len(val_dl)\n",
    "        train_acc = train_corr / len(train_dl.dataset)\n",
    "        val_acc = val_corr / len(val_dl.dataset)\n",
    "\n",
    "        if val_loss > best_val_loss:\n",
    "            patience += 1\n",
    "        else:\n",
    "            torch.save(\n",
    "                model.state_dict(),\n",
    "                f\"checkpoints/{model_name}_{(epoch+1)*len(train_dl)}.pth\",\n",
    "            )\n",
    "            patience = 0\n",
    "            best_val_loss = val_loss\n",
    "\n",
    "        print(\n",
    "            f\"Epoch {epoch+1}:\\n Train loss: {train_loss:.6f} - Train acc: {train_acc:.6f}\\n Val loss: {val_loss:.6f} - Val acc: {val_acc:.6f}\"\n",
    "        )\n",
    "\n",
    "        if patience >= early_stopping:\n",
    "            print(\n",
    "                f\"Stopped since val loss has not improved in the last {early_stopping} epochs...\"\n",
    "            )\n",
    "            break\n",
    "\n",
    "        p_bar.reset()"
   ]
  },
  {
   "cell_type": "code",
   "execution_count": 107,
   "metadata": {},
   "outputs": [
    {
     "data": {
      "application/vnd.jupyter.widget-view+json": {
       "model_id": "35750ba07f36498493f4341539b12959",
       "version_major": 2,
       "version_minor": 0
      },
      "text/plain": [
       "  0%|          | 0/625 [00:00<?, ?it/s]"
      ]
     },
     "metadata": {},
     "output_type": "display_data"
    },
    {
     "name": "stdout",
     "output_type": "stream",
     "text": [
      "Epoch 1:\n",
      " Train loss: 0.561814 - Train acc: 0.723506\n",
      " Val loss: 0.506942 - Val acc: 0.766727\n",
      "Epoch 2:\n",
      " Train loss: 0.508019 - Train acc: 0.766624\n",
      " Val loss: 0.492749 - Val acc: 0.769327\n",
      "Epoch 3:\n",
      " Train loss: 0.498705 - Train acc: 0.769599\n",
      " Val loss: 0.492737 - Val acc: 0.767727\n",
      "Epoch 4:\n",
      " Train loss: 0.494587 - Train acc: 0.770887\n",
      " Val loss: 0.500492 - Val acc: 0.761826\n",
      "Epoch 5:\n",
      " Train loss: 0.492521 - Train acc: 0.772349\n",
      " Val loss: 0.483920 - Val acc: 0.770077\n",
      "Epoch 6:\n",
      " Train loss: 0.490277 - Train acc: 0.774775\n",
      " Val loss: 0.492605 - Val acc: 0.764826\n",
      "Epoch 7:\n",
      " Train loss: 0.488810 - Train acc: 0.774550\n",
      " Val loss: 0.483440 - Val acc: 0.772477\n",
      "Epoch 8:\n",
      " Train loss: 0.488370 - Train acc: 0.775487\n",
      " Val loss: 0.495463 - Val acc: 0.759676\n",
      "Epoch 9:\n",
      " Train loss: 0.486715 - Train acc: 0.773912\n",
      " Val loss: 0.490272 - Val acc: 0.765027\n",
      "Epoch 10:\n",
      " Train loss: 0.486704 - Train acc: 0.775125\n",
      " Val loss: 0.482875 - Val acc: 0.768127\n",
      "Epoch 11:\n",
      " Train loss: 0.485783 - Train acc: 0.777225\n",
      " Val loss: 0.492149 - Val acc: 0.766677\n",
      "Epoch 12:\n",
      " Train loss: 0.484006 - Train acc: 0.776712\n",
      " Val loss: 0.480331 - Val acc: 0.771927\n",
      "Epoch 13:\n",
      " Train loss: 0.484942 - Train acc: 0.777712\n",
      " Val loss: 0.491304 - Val acc: 0.770427\n",
      "Epoch 14:\n",
      " Train loss: 0.485099 - Train acc: 0.775900\n",
      " Val loss: 0.491828 - Val acc: 0.762726\n",
      "Epoch 15:\n",
      " Train loss: 0.483915 - Train acc: 0.778075\n",
      " Val loss: 0.489089 - Val acc: 0.772177\n",
      "Epoch 16:\n",
      " Train loss: 0.484954 - Train acc: 0.776675\n",
      " Val loss: 0.480242 - Val acc: 0.773377\n",
      "Epoch 17:\n",
      " Train loss: 0.483332 - Train acc: 0.777062\n",
      " Val loss: 0.486814 - Val acc: 0.770877\n",
      "Epoch 18:\n",
      " Train loss: 0.483403 - Train acc: 0.778938\n",
      " Val loss: 0.507594 - Val acc: 0.762926\n",
      "Epoch 19:\n",
      " Train loss: 0.483666 - Train acc: 0.777687\n",
      " Val loss: 0.483974 - Val acc: 0.777128\n",
      "Epoch 20:\n",
      " Train loss: 0.483110 - Train acc: 0.778175\n",
      " Val loss: 0.480639 - Val acc: 0.773577\n",
      "Epoch 21:\n",
      " Train loss: 0.482546 - Train acc: 0.779775\n",
      " Val loss: 0.479183 - Val acc: 0.775578\n",
      "Epoch 22:\n",
      " Train loss: 0.484347 - Train acc: 0.778538\n",
      " Val loss: 0.481997 - Val acc: 0.773127\n",
      "Epoch 23:\n",
      " Train loss: 0.482936 - Train acc: 0.779175\n",
      " Val loss: 0.484919 - Val acc: 0.773927\n",
      "Epoch 24:\n",
      " Train loss: 0.483897 - Train acc: 0.778650\n",
      " Val loss: 0.488970 - Val acc: 0.774477\n",
      "Epoch 25:\n",
      " Train loss: 0.481327 - Train acc: 0.778238\n",
      " Val loss: 0.490681 - Val acc: 0.768877\n",
      "Epoch 26:\n",
      " Train loss: 0.481852 - Train acc: 0.778800\n",
      " Val loss: 0.502427 - Val acc: 0.772677\n",
      "Stopped since val loss has not improved in the last 5 epochs...\n"
     ]
    }
   ],
   "source": [
    "epochs = 100\n",
    "train_and_eval(clf, optimizer, loss_fn, scheduler, epochs, train_dl, val_dl)"
   ]
  },
  {
   "cell_type": "code",
   "execution_count": 29,
   "metadata": {},
   "outputs": [
    {
     "name": "stdout",
     "output_type": "stream",
     "text": [
      "Best acc: 0.775578\n",
      "Best f1: 0.802395\n"
     ]
    }
   ],
   "source": [
    "from sklearn.metrics import f1_score\n",
    "\n",
    "pretrained = EncoderClassifier(\n",
    "    vocab_size,\n",
    "    n_heads,\n",
    "    max_length,\n",
    "    n_blocks,\n",
    "    d_model,\n",
    "    d_ff,\n",
    "    d_k,\n",
    "    d_v,\n",
    "    n_classes,\n",
    "    p_drop,\n",
    ")\n",
    "\n",
    "pretrained.load_state_dict(torch.load(\"checkpoints/sample_model_13125.pth\"))\n",
    "pretrained.to(device)\n",
    "pretrained.eval()\n",
    "\n",
    "y_true = []\n",
    "y_pred = []\n",
    "val_corr = 0\n",
    "with torch.inference_mode():\n",
    "    for y, x, x_len in val_dl:\n",
    "        y, x, x_len = y.to(device), x.to(device), x_len.to(device)\n",
    "\n",
    "        y_hat = pretrained(x, x_len).argmax(-1)\n",
    "        val_corr += (y == y_hat).sum().item()\n",
    "        y_true += y.tolist()\n",
    "        y_pred += y_hat.tolist()\n",
    "\n",
    "print(f\"Best acc: {val_corr/len(val_dl.dataset):.6f}\")\n",
    "print(f\"Best f1: {f1_score(y_true,y_pred):.6f}\")"
   ]
  },
  {
   "cell_type": "code",
   "execution_count": null,
   "metadata": {},
   "outputs": [],
   "source": []
  }
 ],
 "metadata": {
  "kernelspec": {
   "display_name": ".env",
   "language": "python",
   "name": "python3"
  },
  "language_info": {
   "codemirror_mode": {
    "name": "ipython",
    "version": 3
   },
   "file_extension": ".py",
   "mimetype": "text/x-python",
   "name": "python",
   "nbconvert_exporter": "python",
   "pygments_lexer": "ipython3",
   "version": "3.8.16"
  },
  "orig_nbformat": 4
 },
 "nbformat": 4,
 "nbformat_minor": 2
}
