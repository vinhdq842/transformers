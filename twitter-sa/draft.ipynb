{
 "cells": [
  {
   "cell_type": "code",
   "execution_count": 3,
   "metadata": {},
   "outputs": [],
   "source": [
    "import torch\n",
    "from torch import nn\n",
    "from tqdm.notebook import tqdm\n",
    "import pandas as pd\n",
    "from sklearn.model_selection import train_test_split\n",
    "from nltk.tokenize import word_tokenize\n",
    "import re\n",
    "from ipywidgets import interact_manual\n",
    "import unicodedata\n",
    "import sys\n",
    " \n",
    "# setting path\n",
    "sys.path.append('../')\n",
    "from models.transformers import Encoder\n",
    "from modules.utils import create_sequence_mask"
   ]
  },
  {
   "cell_type": "code",
   "execution_count": 4,
   "metadata": {},
   "outputs": [],
   "source": [
    "train_data = pd.read_csv('train_pr.csv')\n",
    "val_data = pd.read_csv('val_pr.csv')"
   ]
  },
  {
   "cell_type": "code",
   "execution_count": 5,
   "metadata": {},
   "outputs": [],
   "source": [
    "def preprocess_text(text:str):\n",
    "    text = unicodedata.normalize('NFC',text)\n",
    "    text = re.sub(r'&[a-z]+?;','',text)\n",
    "    text = re.sub(r'<[^>]+>',' _html_tag_ ',text)\n",
    "    text = re.sub(r'[a-zA-Z0-9-_][.a-zA-Z0-9-_]*@([.a-zA-Z0-9_-]+){,3}',' _email_ ',text)\n",
    "    text = re.sub(r'https?://[a-zA-Z0-9-_&.?/%=]*',' _url_link_ ',text)\n",
    "    text = re.sub(r'#[_a-zA-Z0-9]+',' _hash_tag_ ',text)\n",
    "    text = re.sub(r'@[_a-zA-Z0-9]+',' _tag_ ',text)\n",
    "    text = re.sub(r'[0-9][0-9.,]*',' _num_ ',text)\n",
    "    text = re.sub(r'[^\\sa-zA-Z0-9.,!;:/\\'^()=<>_?]','',text)\n",
    "    text = re.sub(r'(\\s*[.!?:;-]\\s*)+',r' \\1 ', text)\n",
    "    \n",
    "    return ' '.join(word_tokenize(text)).lower()"
   ]
  },
  {
   "cell_type": "code",
   "execution_count": 6,
   "metadata": {},
   "outputs": [
    {
     "data": {
      "application/vnd.jupyter.widget-view+json": {
       "model_id": "a13765ceac1b4568986c05f63f497dc0",
       "version_major": 2,
       "version_minor": 0
      },
      "text/plain": [
       "interactive(children=(Text(value='', description='text'), Button(description='Run Interact', style=ButtonStyle…"
      ]
     },
     "metadata": {},
     "output_type": "display_data"
    }
   ],
   "source": [
    "@interact_manual\n",
    "def _(text=''):\n",
    "    return preprocess_text(text)"
   ]
  },
  {
   "cell_type": "code",
   "execution_count": 7,
   "metadata": {},
   "outputs": [
    {
     "data": {
      "text/plain": [
       "\"\\ntqdm.pandas()\\ntrain_data['SentimentText'] = train_data['SentimentText'].progress_apply(preprocess_text)\\ntrain_data.to_csv('train_pr.csv',index=False)\\nval_data['SentimentText'] = val_data['SentimentText'].progress_apply(preprocess_text)\\nval_data.to_csv('val_pr.csv',index=False)\\n\""
      ]
     },
     "execution_count": 7,
     "metadata": {},
     "output_type": "execute_result"
    }
   ],
   "source": [
    "\"\"\"\n",
    "tqdm.pandas()\n",
    "train_data['SentimentText'] = train_data['SentimentText'].progress_apply(preprocess_text)\n",
    "train_data.to_csv('train_pr.csv',index=False)\n",
    "val_data['SentimentText'] = val_data['SentimentText'].progress_apply(preprocess_text)\n",
    "val_data.to_csv('val_pr.csv',index=False)\n",
    "\"\"\""
   ]
  },
  {
   "cell_type": "code",
   "execution_count": 8,
   "metadata": {},
   "outputs": [],
   "source": [
    "from collections import Counter\n",
    "\n",
    "PAD = \"[PAD]\"\n",
    "UNK = \"[UNK]\"\n",
    "\n",
    "\n",
    "def build_vocab(df, min_freq=3):\n",
    "    counter = Counter()\n",
    "    for tweet in df.itertuples():\n",
    "        counter.update(tweet.SentimentText.split())\n",
    "\n",
    "    vocab = sorted([w for w, c in counter.items() if c >= min_freq])\n",
    "\n",
    "    w2i = {w: i for i, w in enumerate([PAD, UNK] + vocab)}\n",
    "    i2w = {v: k for k, v in w2i.items()}\n",
    "\n",
    "    return w2i, i2w\n",
    "\n",
    "\n",
    "w2i, i2w = build_vocab(train_data)"
   ]
  },
  {
   "cell_type": "code",
   "execution_count": 9,
   "metadata": {},
   "outputs": [],
   "source": [
    "from torch.utils.data import DataLoader, Dataset\n",
    "\n",
    "\n",
    "class TweetDataset(Dataset):\n",
    "    def __init__(self, df, vocab):\n",
    "        self.df = df\n",
    "        self.vocab = vocab\n",
    "\n",
    "    def __len__(self):\n",
    "        return len(self.df)\n",
    "\n",
    "    def __getitem__(self, index: int):\n",
    "        text = self.df[\"SentimentText\"].values[index].split()\n",
    "\n",
    "        return (\n",
    "            self.df[\"Sentiment\"].values[index],\n",
    "            [self.vocab.get(w, self.vocab[UNK]) for w in text],\n",
    "            len(text),\n",
    "        )\n",
    "\n",
    "\n",
    "class TweetDatasetCollate:\n",
    "    def __init__(self, max_length, vocab):\n",
    "        self.max_length = max_length\n",
    "        self.vocab = vocab\n",
    "\n",
    "    def __call__(self, batch):\n",
    "        labels = []\n",
    "        ids = []\n",
    "        lens = []\n",
    "\n",
    "        for label, idx, l in batch:\n",
    "            labels.append(label)\n",
    "            ids.append(\n",
    "                idx[: self.max_length]\n",
    "                + max(0, self.max_length - len(idx)) * [self.vocab[PAD]]\n",
    "            )\n",
    "            lens.append(l if l <= self.max_length else self.max_length)\n",
    "\n",
    "        return torch.LongTensor(labels), torch.LongTensor(ids), torch.LongTensor(lens)"
   ]
  },
  {
   "cell_type": "code",
   "execution_count": 10,
   "metadata": {},
   "outputs": [],
   "source": [
    "class EncoderClassifier(nn.Module):\n",
    "    def __init__(\n",
    "        self,\n",
    "        vocab_size: int,\n",
    "        n_heads: int,\n",
    "        max_length: int,\n",
    "        n_blocks: int,\n",
    "        d_model: int,\n",
    "        d_ff: int,\n",
    "        d_k: int,\n",
    "        d_v: int,\n",
    "        n_classes: int,\n",
    "        p_drop: float,\n",
    "    ):\n",
    "        super().__init__()\n",
    "        self.max_length = max_length\n",
    "        self.encoder = Encoder(\n",
    "            vocab_size, n_heads, max_length, n_blocks, d_model, d_ff, d_k, d_v, p_drop\n",
    "        )\n",
    "        self.fc = nn.Linear(d_model, n_classes)\n",
    "        self.dropout = nn.Dropout(p=p_drop)\n",
    "\n",
    "    def forward(self, x: torch.Tensor, x_lengths: torch.Tensor):\n",
    "        x_mask = create_sequence_mask(x_lengths, self.max_length)\n",
    "        x = torch.relu(self.encoder(x, x_mask))\n",
    "        return self.fc(self.dropout((x * x_mask.squeeze().unsqueeze(-1)).mean(dim=1)))"
   ]
  },
  {
   "cell_type": "code",
   "execution_count": 11,
   "metadata": {},
   "outputs": [],
   "source": [
    "vocab_size = len(w2i)\n",
    "max_length = 128\n",
    "n_heads = 8\n",
    "d_model = 128\n",
    "n_blocks = 4\n",
    "d_ff = 128\n",
    "d_k = d_v = d_model // n_heads\n",
    "p_drop = 0.4\n",
    "n_classes = 2\n",
    "batch_size = 128"
   ]
  },
  {
   "cell_type": "code",
   "execution_count": 12,
   "metadata": {},
   "outputs": [],
   "source": [
    "collate = TweetDatasetCollate(max_length, w2i)\n",
    "train_dl = DataLoader(\n",
    "    TweetDataset(train_data, w2i),\n",
    "    shuffle=True,\n",
    "    batch_size=batch_size,\n",
    "    collate_fn=collate,\n",
    ")\n",
    "val_dl = DataLoader(\n",
    "    TweetDataset(val_data, w2i), batch_size=batch_size * 2, collate_fn=collate\n",
    ")"
   ]
  },
  {
   "cell_type": "code",
   "execution_count": 13,
   "metadata": {},
   "outputs": [
    {
     "data": {
      "text/plain": [
       "device(type='cuda')"
      ]
     },
     "execution_count": 13,
     "metadata": {},
     "output_type": "execute_result"
    }
   ],
   "source": [
    "device = torch.device('cuda' if torch.cuda.is_available() else 'cpu');device"
   ]
  },
  {
   "cell_type": "code",
   "execution_count": 14,
   "metadata": {},
   "outputs": [],
   "source": [
    "clf = EncoderClassifier(\n",
    "    vocab_size,\n",
    "    n_heads,\n",
    "    max_length,\n",
    "    n_blocks,\n",
    "    d_model,\n",
    "    d_ff,\n",
    "    d_k,\n",
    "    d_v,\n",
    "    n_classes,\n",
    "    p_drop,\n",
    ").to(device)\n",
    "\n",
    "for p in clf.parameters():\n",
    "    if p.dim() > 1:\n",
    "        nn.init.xavier_uniform_(p)"
   ]
  },
  {
   "cell_type": "code",
   "execution_count": 15,
   "metadata": {},
   "outputs": [],
   "source": [
    "from torch.optim import Adam\n",
    "from torch.optim.lr_scheduler import ExponentialLR\n",
    "\n",
    "optimizer = Adam(clf.parameters(), lr=0.0008, betas=(0.9, 0.98), weight_decay=0.001)\n",
    "loss_fn = nn.CrossEntropyLoss()\n",
    "scheduler = ExponentialLR(optimizer, 0.999**0.125)"
   ]
  },
  {
   "cell_type": "code",
   "execution_count": 16,
   "metadata": {},
   "outputs": [],
   "source": [
    "import os\n",
    "\n",
    "os.makedirs(\"checkpoints\", exist_ok=True)\n",
    "\n",
    "def train_and_eval(\n",
    "    model,\n",
    "    optimizer,\n",
    "    loss_fn,\n",
    "    scheduler,\n",
    "    epochs,\n",
    "    train_dl,\n",
    "    val_dl,\n",
    "    early_stopping=5,\n",
    "    model_name=\"sample_model\",\n",
    "):\n",
    "    p_bar = tqdm(total=len(train_dl))\n",
    "\n",
    "    best_val_loss = 25042001\n",
    "    patience = 0\n",
    "\n",
    "    for epoch in range(epochs):\n",
    "        train_loss = 0\n",
    "        train_corr = 0\n",
    "        val_loss = 0\n",
    "        val_corr = 0\n",
    "\n",
    "        model.train()\n",
    "        for y, x, x_len in train_dl:\n",
    "            y, x, x_len = y.to(device), x.to(device), x_len.to(device)\n",
    "\n",
    "            logits = model(x, x_len)\n",
    "            loss = loss_fn(logits, y)\n",
    "            optimizer.zero_grad()\n",
    "            loss.backward()\n",
    "            optimizer.step()\n",
    "\n",
    "            train_loss += loss.item()\n",
    "            train_corr += (y == logits.argmax(-1)).sum().item()\n",
    "            p_bar.update(1)\n",
    "        scheduler.step()\n",
    "\n",
    "        model.eval()\n",
    "        with torch.inference_mode():\n",
    "            for y, x, x_len in val_dl:\n",
    "                y, x, x_len = y.to(device), x.to(device), x_len.to(device)\n",
    "\n",
    "                logits = model(x, x_len)\n",
    "\n",
    "                val_loss += loss_fn(logits, y).item()\n",
    "                val_corr += (y == logits.argmax(-1)).sum().item()\n",
    "\n",
    "        train_loss /= len(train_dl)\n",
    "        val_loss /= len(val_dl)\n",
    "        train_acc = train_corr / len(train_dl.dataset)\n",
    "        val_acc = val_corr / len(val_dl.dataset)\n",
    "\n",
    "        if val_loss > best_val_loss:\n",
    "            patience += 1\n",
    "        else:\n",
    "            torch.save(\n",
    "                model.state_dict(),\n",
    "                f\"checkpoints/{model_name}_{(epoch+1)*len(train_dl)}.pth\",\n",
    "            )\n",
    "            patience = 0\n",
    "            best_val_loss = val_loss\n",
    "\n",
    "        print(\n",
    "            f\"Epoch {epoch+1}:\\n Train loss: {train_loss:.6f} - Train acc: {train_acc:.6f}\\n Val loss: {val_loss:.6f} - Val acc: {val_acc:.6f}\"\n",
    "        )\n",
    "\n",
    "        if patience >= early_stopping:\n",
    "            print(\n",
    "                f\"Stopped since val loss has not improved in the last {early_stopping} epochs...\"\n",
    "            )\n",
    "            break\n",
    "\n",
    "        p_bar.reset()"
   ]
  },
  {
   "cell_type": "code",
   "execution_count": 17,
   "metadata": {},
   "outputs": [
    {
     "data": {
      "application/vnd.jupyter.widget-view+json": {
       "model_id": "ae93aeeab1624549915e674e4f2fab06",
       "version_major": 2,
       "version_minor": 0
      },
      "text/plain": [
       "  0%|          | 0/625 [00:00<?, ?it/s]"
      ]
     },
     "metadata": {},
     "output_type": "display_data"
    },
    {
     "name": "stdout",
     "output_type": "stream",
     "text": [
      "Epoch 1:\n",
      " Train loss: 0.564640 - Train acc: 0.722406\n",
      " Val loss: 0.509089 - Val acc: 0.762126\n",
      "Epoch 2:\n",
      " Train loss: 0.509808 - Train acc: 0.764311\n",
      " Val loss: 0.492942 - Val acc: 0.769927\n",
      "Epoch 3:\n",
      " Train loss: 0.499559 - Train acc: 0.769399\n",
      " Val loss: 0.492653 - Val acc: 0.766327\n",
      "Epoch 4:\n",
      " Train loss: 0.495759 - Train acc: 0.770724\n",
      " Val loss: 0.488009 - Val acc: 0.769027\n",
      "Epoch 5:\n",
      " Train loss: 0.493141 - Train acc: 0.771487\n",
      " Val loss: 0.487774 - Val acc: 0.765777\n",
      "Epoch 6:\n",
      " Train loss: 0.493293 - Train acc: 0.772787\n",
      " Val loss: 0.492504 - Val acc: 0.764726\n",
      "Epoch 7:\n",
      " Train loss: 0.490129 - Train acc: 0.773875\n",
      " Val loss: 0.484608 - Val acc: 0.769727\n",
      "Epoch 8:\n",
      " Train loss: 0.489195 - Train acc: 0.774125\n",
      " Val loss: 0.483867 - Val acc: 0.772477\n",
      "Epoch 9:\n",
      " Train loss: 0.489668 - Train acc: 0.774625\n",
      " Val loss: 0.481184 - Val acc: 0.771627\n",
      "Epoch 10:\n",
      " Train loss: 0.488876 - Train acc: 0.774587\n",
      " Val loss: 0.493154 - Val acc: 0.760326\n",
      "Epoch 11:\n",
      " Train loss: 0.487455 - Train acc: 0.775687\n",
      " Val loss: 0.483214 - Val acc: 0.772227\n",
      "Epoch 12:\n",
      " Train loss: 0.487570 - Train acc: 0.775387\n",
      " Val loss: 0.485842 - Val acc: 0.772427\n",
      "Epoch 13:\n",
      " Train loss: 0.484948 - Train acc: 0.776362\n",
      " Val loss: 0.486646 - Val acc: 0.772277\n",
      "Epoch 14:\n",
      " Train loss: 0.486529 - Train acc: 0.777262\n",
      " Val loss: 0.481341 - Val acc: 0.769027\n",
      "Stopped since val loss has not improved in the last 5 epochs...\n"
     ]
    }
   ],
   "source": [
    "epochs = 100\n",
    "train_and_eval(clf, optimizer, loss_fn, scheduler, epochs, train_dl, val_dl)"
   ]
  },
  {
   "cell_type": "code",
   "execution_count": 18,
   "metadata": {},
   "outputs": [
    {
     "name": "stdout",
     "output_type": "stream",
     "text": [
      "Best acc: 0.775578\n",
      "Best f1: 0.802395\n"
     ]
    }
   ],
   "source": [
    "from sklearn.metrics import f1_score\n",
    "\n",
    "pretrained = EncoderClassifier(\n",
    "    vocab_size,\n",
    "    n_heads,\n",
    "    max_length,\n",
    "    n_blocks,\n",
    "    d_model,\n",
    "    d_ff,\n",
    "    d_k,\n",
    "    d_v,\n",
    "    n_classes,\n",
    "    p_drop,\n",
    ")\n",
    "\n",
    "pretrained.load_state_dict(torch.load(\"checkpoints/sample_model_13125.pth\"))\n",
    "pretrained.to(device)\n",
    "pretrained.eval()\n",
    "\n",
    "y_true = []\n",
    "y_pred = []\n",
    "val_corr = 0\n",
    "with torch.inference_mode():\n",
    "    for y, x, x_len in val_dl:\n",
    "        y, x, x_len = y.to(device), x.to(device), x_len.to(device)\n",
    "\n",
    "        y_hat = pretrained(x, x_len).argmax(-1)\n",
    "        val_corr += (y == y_hat).sum().item()\n",
    "        y_true += y.tolist()\n",
    "        y_pred += y_hat.tolist()\n",
    "\n",
    "print(f\"Best acc: {val_corr/len(val_dl.dataset):.6f}\")\n",
    "print(f\"Best f1: {f1_score(y_true,y_pred):.6f}\")"
   ]
  },
  {
   "cell_type": "code",
   "execution_count": null,
   "metadata": {},
   "outputs": [],
   "source": []
  }
 ],
 "metadata": {
  "kernelspec": {
   "display_name": ".env",
   "language": "python",
   "name": "python3"
  },
  "language_info": {
   "codemirror_mode": {
    "name": "ipython",
    "version": 3
   },
   "file_extension": ".py",
   "mimetype": "text/x-python",
   "name": "python",
   "nbconvert_exporter": "python",
   "pygments_lexer": "ipython3",
   "version": "3.8.16"
  },
  "orig_nbformat": 4
 },
 "nbformat": 4,
 "nbformat_minor": 2
}
