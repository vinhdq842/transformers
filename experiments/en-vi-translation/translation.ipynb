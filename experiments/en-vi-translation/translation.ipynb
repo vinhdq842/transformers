{
 "cells": [
  {
   "cell_type": "code",
   "execution_count": 19,
   "metadata": {},
   "outputs": [],
   "source": [
    "import html\n",
    "import re\n",
    "import sys\n",
    "\n",
    "import torch\n",
    "from datasets import load_dataset, load_from_disk\n",
    "from torch import nn\n",
    "\n",
    "sys.path.append(\"../../\")\n",
    "\n",
    "from utils.helpers import create_pad_mask, create_subsequent_mask\n",
    "from utils.tokenizers import BPETokenizer"
   ]
  },
  {
   "cell_type": "code",
   "execution_count": 20,
   "metadata": {},
   "outputs": [
    {
     "name": "stderr",
     "output_type": "stream",
     "text": [
      "Found cached dataset mt_eng_vietnamese (/media/4TDISK/vinhdq/transformers/experiments/en-vi-translation/datasets/mt_eng_vietnamese/iwslt2015-vi-en/1.0.0/53add551a01e9874588066f89d42925f9fad43db347199dad00f7e4b0c905a71)\n"
     ]
    },
    {
     "data": {
      "application/vnd.jupyter.widget-view+json": {
       "model_id": "bbf03d5ff0194270b1b0c399087679cd",
       "version_major": 2,
       "version_minor": 0
      },
      "text/plain": [
       "  0%|          | 0/3 [00:00<?, ?it/s]"
      ]
     },
     "metadata": {},
     "output_type": "display_data"
    },
    {
     "data": {
      "application/vnd.jupyter.widget-view+json": {
       "model_id": "797614e0df134fb2aaa16a8b5640a929",
       "version_major": 2,
       "version_minor": 0
      },
      "text/plain": [
       "Map:   0%|          | 0/133318 [00:00<?, ? examples/s]"
      ]
     },
     "metadata": {},
     "output_type": "display_data"
    },
    {
     "data": {
      "application/vnd.jupyter.widget-view+json": {
       "model_id": "076c2d93f51c44c1bbbc26e85a0c3d2e",
       "version_major": 2,
       "version_minor": 0
      },
      "text/plain": [
       "Map:   0%|          | 0/1269 [00:00<?, ? examples/s]"
      ]
     },
     "metadata": {},
     "output_type": "display_data"
    },
    {
     "data": {
      "application/vnd.jupyter.widget-view+json": {
       "model_id": "2e523c869bf14133a9c0cd02adecc8e4",
       "version_major": 2,
       "version_minor": 0
      },
      "text/plain": [
       "Saving the dataset (0/1 shards):   0%|          | 0/133318 [00:00<?, ? examples/s]"
      ]
     },
     "metadata": {},
     "output_type": "display_data"
    },
    {
     "data": {
      "application/vnd.jupyter.widget-view+json": {
       "model_id": "1198566b4705452ab4516fa7367b7ece",
       "version_major": 2,
       "version_minor": 0
      },
      "text/plain": [
       "Saving the dataset (0/1 shards):   0%|          | 0/1269 [00:00<?, ? examples/s]"
      ]
     },
     "metadata": {},
     "output_type": "display_data"
    }
   ],
   "source": [
    "vi_en_dataset = load_dataset(\n",
    "    \"mt_eng_vietnamese\", \"iwslt2015-vi-en\", cache_dir=\"datasets\"\n",
    ")\n",
    "\n",
    "\n",
    "def clean(batch):\n",
    "    en = html.unescape(batch[\"translation\"][\"en\"]).lower()\n",
    "    vi = html.unescape(batch[\"translation\"][\"vi\"]).lower()\n",
    "\n",
    "    en = re.sub(r\"\\s+\", \" \", en).strip()\n",
    "    en = \" \".join(list(filter(lambda x: len(x), en.split())))\n",
    "    batch[\"en\"] = en\n",
    "\n",
    "    vi = re.sub(r\"\\s+\", \" \", vi).strip()\n",
    "    vi = \" \".join(list(filter(lambda x: len(x), vi.split())))\n",
    "    batch[\"vi\"] = vi\n",
    "\n",
    "    return batch\n",
    "\n",
    "\n",
    "del vi_en_dataset[\"validation\"]\n",
    "vi_en_dataset = vi_en_dataset.map(clean, remove_columns=\"translation\")\n",
    "vi_en_dataset.save_to_disk(\"datasets/cleaned\")"
   ]
  },
  {
   "cell_type": "code",
   "execution_count": null,
   "metadata": {},
   "outputs": [],
   "source": [
    "tokenizer = BPETokenizer()\n",
    "tokenizer.load_state_dict(torch.load(\"tokenizers/bpe.pth\"))\n",
    "vi_en_dataset = load_from_disk(\"datasets/cleaned\")"
   ]
  },
  {
   "cell_type": "code",
   "execution_count": 6,
   "metadata": {},
   "outputs": [],
   "source": [
    "def token2idx(batch):\n",
    "    batch[\"ids_vi\"] = (\n",
    "        [tokenizer._st2i[tokenizer.sos]]\n",
    "        + tokenizer(batch[\"vi\"])\n",
    "        + [tokenizer._st2i[tokenizer.eos]]\n",
    "    )\n",
    "    batch[\"ids_en\"] = tokenizer(batch[\"en\"])\n",
    "\n",
    "    return batch\n",
    "\n",
    "\n",
    "vi_en_ids = vi_en_dataset.map(\n",
    "    token2idx, remove_columns=vi_en_dataset.column_names[\"train\"]\n",
    ")"
   ]
  },
  {
   "cell_type": "code",
   "execution_count": null,
   "metadata": {},
   "outputs": [],
   "source": [
    "max_length = 256\n",
    "\n",
    "vi_en_ids = vi_en_ids.filter(\n",
    "    lambda batch: 2 < len(batch[\"ids_vi\"]) <= max_length\n",
    "    and 1 <= len(batch[\"ids_en\"]) <= max_length\n",
    ")"
   ]
  },
  {
   "cell_type": "code",
   "execution_count": 20,
   "metadata": {},
   "outputs": [],
   "source": [
    "train, val = vi_en_ids[\"train\"].train_test_split(test_size=0.01).values()\n",
    "vi_en_ids.update({\"train\": train, \"val\": val})\n",
    "vi_en_ids.save_to_disk(\"datasets/processed_ids_splits\")"
   ]
  },
  {
   "cell_type": "code",
   "execution_count": 7,
   "metadata": {},
   "outputs": [
    {
     "data": {
      "text/plain": [
       "DatasetDict({\n",
       "    train: Dataset({\n",
       "        features: ['ids_vi', 'ids_en'],\n",
       "        num_rows: 131805\n",
       "    })\n",
       "    test: Dataset({\n",
       "        features: ['ids_vi', 'ids_en'],\n",
       "        num_rows: 1268\n",
       "    })\n",
       "    val: Dataset({\n",
       "        features: ['ids_vi', 'ids_en'],\n",
       "        num_rows: 1332\n",
       "    })\n",
       "})"
      ]
     },
     "execution_count": 7,
     "metadata": {},
     "output_type": "execute_result"
    }
   ],
   "source": [
    "vi_en_ids = load_from_disk(\"datasets/processed_ids_splits\")\n",
    "vi_en_ids"
   ]
  },
  {
   "cell_type": "code",
   "execution_count": 8,
   "metadata": {},
   "outputs": [
    {
     "name": "stdout",
     "output_type": "stream",
     "text": [
      "['and', ' ,', ' you', ' know', ' ,', ' built', ' the', ' society', ' that', ' we', ' now', ' live', ' in', ' .']\n"
     ]
    }
   ],
   "source": [
    "print(tokenizer.decode(vi_en_ids[\"train\"][\"ids_en\"][56]))"
   ]
  },
  {
   "cell_type": "code",
   "execution_count": 11,
   "metadata": {},
   "outputs": [
    {
     "name": "stdout",
     "output_type": "stream",
     "text": [
      "Total: 238,436 parameters.\n",
      "Trainable: 238,436 parameters.\n"
     ]
    }
   ],
   "source": [
    "from torch.optim import Adam\n",
    "from torch.optim.lr_scheduler import ExponentialLR\n",
    "\n",
    "from models import Transformer\n",
    "from utils.helpers import count_params\n",
    "\n",
    "device = torch.device(\"cuda:0\" if torch.cuda.is_available() else \"cpu\")\n",
    "\n",
    "vocab_size = len(tokenizer)\n",
    "n_heads = 4\n",
    "n_blocks = 2\n",
    "d_model = 64\n",
    "d_k = d_v = d_model // n_heads\n",
    "d_ff = 4 * d_model\n",
    "p_drop = 0.1\n",
    "\n",
    "model = Transformer(\n",
    "    vocab_size, n_heads, max_length, n_blocks, d_model, d_ff, d_k, d_v, p_drop\n",
    ").to(device)\n",
    "count_params(model)\n",
    "\n",
    "optimizer = Adam(model.parameters(), lr=0.0002, betas=(0.98, 0.99))\n",
    "scheduler = ExponentialLR(optimizer, 0.99**0.125)\n",
    "loss_fn = nn.CrossEntropyLoss(\n",
    "    label_smoothing=0.1, ignore_index=tokenizer._st2i[tokenizer.pad]\n",
    ")"
   ]
  },
  {
   "cell_type": "code",
   "execution_count": 30,
   "metadata": {},
   "outputs": [],
   "source": [
    "lre = torch.linspace(-6, -0.6, 1000)"
   ]
  },
  {
   "cell_type": "code",
   "execution_count": null,
   "metadata": {},
   "outputs": [],
   "source": [
    "import math\n",
    "from torch.utils.data import DataLoader\n",
    "from utils.datasets import TextPairDataset, TextPairDataCollate\n",
    "\n",
    "tp_collate = TextPairDataCollate(tokenizer)\n",
    "\n",
    "val_dl = DataLoader(\n",
    "    TextPairDataset(vi_en_ids[\"val\"][\"ids_en\"], vi_en_ids[\"val\"][\"ids_vi\"]),\n",
    "    batch_size=32,\n",
    "    pin_memory=True,\n",
    "    shuffle=False,\n",
    "    collate_fn=tp_collate,\n",
    ")\n",
    "\n",
    "losses = []\n",
    "lrs = []\n",
    "i = 0\n",
    "while i < len(lre):\n",
    "    for src, src_lens, tgt, tgt_lens in val_dl:\n",
    "        src, src_lens, tgt, tgt_lens = (\n",
    "            src.to(device),\n",
    "            src_lens.to(device),\n",
    "            tgt.to(device),\n",
    "            tgt_lens.to(device),\n",
    "        )\n",
    "\n",
    "        src_mask = create_pad_mask(src_lens)\n",
    "        tgt_0 = tgt[:, :-1]\n",
    "        tgt_0_mask = create_subsequent_mask(\n",
    "            tgt_lens, pad_mask=create_pad_mask(tgt_lens)\n",
    "        )\n",
    "        tgt_1 = tgt[:, 1:].contiguous().view(-1)\n",
    "\n",
    "        optimizer.param_groups[0][\"lr\"] = math.exp(lre[i])\n",
    "        logits = model(src, src_mask, tgt_0, tgt_0_mask)\n",
    "        loss = loss_fn(logits.view(-1, vocab_size), tgt_1)\n",
    "        optimizer.zero_grad()\n",
    "        loss.backward()\n",
    "        optimizer.step()\n",
    "\n",
    "        print(optimizer.param_groups[0][\"lr\"])\n",
    "\n",
    "        losses.append(loss.item())\n",
    "        lrs.append(lre[i])\n",
    "        i += 1\n",
    "        if i == len(lre):\n",
    "            break"
   ]
  },
  {
   "cell_type": "code",
   "execution_count": 32,
   "metadata": {},
   "outputs": [
    {
     "data": {
      "text/plain": [
       "[<matplotlib.lines.Line2D at 0x7f8955683940>]"
      ]
     },
     "execution_count": 32,
     "metadata": {},
     "output_type": "execute_result"
    },
    {
     "data": {
      "image/png": "[encoded data removed]",
      "text/plain": [
       "<Figure size 640x480 with 1 Axes>"
      ]
     },
     "metadata": {},
     "output_type": "display_data"
    }
   ],
   "source": [
    "import matplotlib.pyplot as plt\n",
    "\n",
    "plt.plot(lrs, losses)"
   ]
  },
  {
   "cell_type": "code",
   "execution_count": 14,
   "metadata": {},
   "outputs": [
    {
     "data": {
      "text/plain": [
       "<All keys matched successfully>"
      ]
     },
     "execution_count": 14,
     "metadata": {},
     "output_type": "execute_result"
    }
   ],
   "source": [
    "model.load_state_dict(torch.load(\"checkpoints/translation-64-2-4.pth\"))"
   ]
  },
  {
   "cell_type": "markdown",
   "metadata": {},
   "source": [
    "### Debugging"
   ]
  },
  {
   "cell_type": "code",
   "execution_count": 5,
   "metadata": {},
   "outputs": [
    {
     "name": "stderr",
     "output_type": "stream",
     "text": [
      "Building vocabulary...: 100%|██████████| 100/100 [00:00<00:00, 14991.01it/s]\n"
     ]
    }
   ],
   "source": [
    "raw_corpus = [\n",
    "    \"This is the Hugging Face Course.\",\n",
    "    \"This chapter is about tokenization.\",\n",
    "    \"This section shows several tokenizer algorithms.\",\n",
    "    \"Hopefully, you will be able to understand how they are trained and generate tokens.\",\n",
    "]\n",
    "tknr = BPETokenizer(raw_corpus, target_size=100)"
   ]
  },
  {
   "cell_type": "code",
   "execution_count": 6,
   "metadata": {},
   "outputs": [],
   "source": [
    "tknr = BPETokenizer()\n",
    "tknr.load_state_dict(torch.load(\"tokenizers/bpe.pth\"))"
   ]
  },
  {
   "cell_type": "code",
   "execution_count": 8,
   "metadata": {},
   "outputs": [
    {
     "name": "stdout",
     "output_type": "stream",
     "text": [
      "['<unk>', 'so', 's', '<unk>', ' hôm', ' nay', ' cứ', ' để', ' nó', ' thế', ' này', ' thôi', ',', ' mai', ' xem', ' tiếp', ' :', 'd', ' ', '<unk>', 'e', 'os', '<unk>', ' ', '<unk>', 'pad', '<unk>']\n"
     ]
    }
   ],
   "source": [
    "print(\n",
    "    tknr.decode(\n",
    "        tknr(\n",
    "            [\n",
    "                \"<sos> Hôm nay cứ để nó thế này thôi, mai xem tiếp :D <eos> <pad>\",\n",
    "                \"To continue, we need to apply that merge in our splits dictionary. Let’s write another function for this:\",\n",
    "            ]\n",
    "        )\n",
    "    )[0]\n",
    ")"
   ]
  },
  {
   "cell_type": "code",
   "execution_count": 12,
   "metadata": {},
   "outputs": [
    {
     "name": "stdout",
     "output_type": "stream",
     "text": [
      "Total: 15,333 parameters.\n",
      "Trainable: 15,333 parameters.\n"
     ]
    }
   ],
   "source": [
    "device = torch.device(\"cuda:0\" if torch.cuda.is_available() else \"cpu\")\n",
    "\n",
    "max_length = 20\n",
    "vocab_size = 21\n",
    "n_heads = 4\n",
    "n_blocks = 2\n",
    "d_model = 16\n",
    "d_k = d_v = d_model // n_heads\n",
    "d_ff = 4 * d_model\n",
    "p_drop = 0.2\n",
    "\n",
    "model = Transformer(\n",
    "    vocab_size, n_heads, max_length, n_blocks, d_model, d_ff, d_k, d_v, p_drop\n",
    ").to(device)\n",
    "count_params(model)\n",
    "\n",
    "optimizer = Adam(model.parameters(), lr=0.002, betas=(0.98, 0.99), weight_decay=0.01)\n",
    "scheduler = ExponentialLR(optimizer, 0.999**0.125)\n",
    "loss_fn = nn.CrossEntropyLoss(label_smoothing=0.1, ignore_index=0)"
   ]
  },
  {
   "cell_type": "code",
   "execution_count": 13,
   "metadata": {},
   "outputs": [],
   "source": [
    "sample_data = torch.arange(1, 21).view(-1, 10).to(device)\n",
    "sample_lens = torch.LongTensor([10] * 2).to(device)\n",
    "sample_mask1 = create_pad_mask(sample_lens).to(device)\n",
    "sample_mask2 = create_subsequent_mask(sample_lens - 1).to(device)"
   ]
  },
  {
   "cell_type": "code",
   "execution_count": null,
   "metadata": {},
   "outputs": [],
   "source": [
    "model.train()\n",
    "for i in range(5000):\n",
    "    logits = model(sample_data, sample_mask1, sample_data[:, :-1], sample_mask2)\n",
    "    #    print(logits.argmax(-1))\n",
    "    loss = loss_fn(logits.reshape(-1, logits.size(-1)), sample_data[:, 1:].reshape(-1))\n",
    "    optimizer.zero_grad()\n",
    "    loss.backward()\n",
    "    optimizer.step()\n",
    "    print(loss.item())\n",
    "    scheduler.step()"
   ]
  },
  {
   "cell_type": "code",
   "execution_count": 15,
   "metadata": {},
   "outputs": [
    {
     "name": "stdout",
     "output_type": "stream",
     "text": [
      "tensor([[ 2,  3,  4,  5,  6,  7,  8,  9, 10, 10, 20, 20, 20, 20, 20]],\n",
      "       device='cuda:0')\n"
     ]
    }
   ],
   "source": [
    "src_data = torch.arange(8, 18).unsqueeze(0).to(device)\n",
    "src_lens = torch.LongTensor([10]).to(device)\n",
    "src_mask = create_pad_mask(src_lens).to(device)\n",
    "\n",
    "tgt_data = torch.LongTensor([[2, 3, 4]]).to(device)\n",
    "tgt_lens = torch.LongTensor([3]).to(device)\n",
    "tgt_mask = create_subsequent_mask(tgt_lens).to(device)\n",
    "\n",
    "model.eval()\n",
    "with torch.inference_mode():\n",
    "    encoder_outputs = model.encode(src_data, src_mask)\n",
    "    for i in range(12):\n",
    "        logits = model.generate(tgt_data, tgt_mask, encoder_outputs, src_mask)\n",
    "        # print(logits.argmax(-1))\n",
    "        n = logits.softmax(-1).argmax(-1)[:, [-1]]\n",
    "        tgt_data = torch.cat([tgt_data, n], dim=1).to(device)\n",
    "        tgt_lens += 1\n",
    "        tgt_mask = create_subsequent_mask(tgt_lens).to(device)\n",
    "\n",
    "print(tgt_data)"
   ]
  },
  {
   "cell_type": "code",
   "execution_count": 18,
   "metadata": {},
   "outputs": [
    {
     "name": "stdout",
     "output_type": "stream",
     "text": [
      "0.6363636363636364\n",
      "0.6363636363636364\n"
     ]
    }
   ],
   "source": [
    "from nltk.translate.bleu_score import sentence_bleu, corpus_bleu\n",
    "from utils.helpers import bleu_score\n",
    "\n",
    "a = [1, 3, 5, 6, 9, 7, 8, 9, 8, 10, 8]\n",
    "b = [1, 3, 5, 6, 8, 10, 3, 8]\n",
    "\n",
    "print(bleu_score([a], [b], tknr))\n",
    "print(sentence_bleu([b], a, (1.0,)))"
   ]
  },
  {
   "cell_type": "code",
   "execution_count": null,
   "metadata": {},
   "outputs": [],
   "source": []
  }
 ],
 "metadata": {
  "kernelspec": {
   "display_name": ".env",
   "language": "python",
   "name": "python3"
  },
  "language_info": {
   "codemirror_mode": {
    "name": "ipython",
    "version": 3
   },
   "file_extension": ".py",
   "mimetype": "text/x-python",
   "name": "python",
   "nbconvert_exporter": "python",
   "pygments_lexer": "ipython3",
   "version": "3.8.16"
  },
  "orig_nbformat": 4
 },
 "nbformat": 4,
 "nbformat_minor": 2
}
