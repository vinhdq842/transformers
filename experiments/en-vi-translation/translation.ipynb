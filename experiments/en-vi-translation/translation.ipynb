{
 "cells": [
  {
   "cell_type": "code",
   "execution_count": 1,
   "metadata": {},
   "outputs": [],
   "source": [
    "import html\n",
    "import math\n",
    "import random\n",
    "import re\n",
    "import sys\n",
    "\n",
    "import matplotlib.pyplot as plt\n",
    "import pandas as pd\n",
    "import torch\n",
    "from datasets import load_dataset, load_from_disk\n",
    "from nltk.translate.bleu_score import corpus_bleu, sentence_bleu\n",
    "from torch import nn\n",
    "from torch.optim import Adam\n",
    "from torch.optim.lr_scheduler import ExponentialLR\n",
    "from torch.utils.data import DataLoader\n",
    "from tqdm.auto import tqdm\n",
    "\n",
    "sys.path.append(\"../../\")\n",
    "\n",
    "from models import Transformer, VanillaTransformerArgs\n",
    "from utils.datasets import TextPairDataCollate, TextPairDataset\n",
    "from utils.helpers import (\n",
    "    bleu_score,\n",
    "    count_params,  # noqa: E402\n",
    "    create_pad_mask,\n",
    "    create_subsequent_mask,\n",
    "    translate_one_sentence,\n",
    ")\n",
    "from utils.tokenizers import BPETokenizer"
   ]
  },
  {
   "cell_type": "markdown",
   "metadata": {},
   "source": [
    "### Data preparation"
   ]
  },
  {
   "cell_type": "markdown",
   "metadata": {},
   "source": [
    "#### 1. Data cleaning"
   ]
  },
  {
   "cell_type": "code",
   "execution_count": null,
   "metadata": {},
   "outputs": [],
   "source": [
    "vi_en_dataset = load_dataset(\n",
    "    \"mt_eng_vietnamese\", \"iwslt2015-vi-en\", cache_dir=\"datasets\"\n",
    ")\n",
    "\n",
    "\n",
    "def clean(batch):\n",
    "    en = html.unescape(batch[\"translation\"][\"en\"]).lower()\n",
    "    vi = html.unescape(batch[\"translation\"][\"vi\"]).lower()\n",
    "\n",
    "    en = re.sub(r\"\\s+\", \" \", en).strip()\n",
    "    en = \" \".join(list(filter(lambda x: len(x), en.split())))\n",
    "    batch[\"en\"] = en\n",
    "\n",
    "    vi = re.sub(r\"\\s+\", \" \", vi).strip()\n",
    "    vi = \" \".join(list(filter(lambda x: len(x), vi.split())))\n",
    "    batch[\"vi\"] = vi\n",
    "\n",
    "    return batch\n",
    "\n",
    "\n",
    "del vi_en_dataset[\"validation\"]\n",
    "vi_en_dataset = vi_en_dataset.map(clean, remove_columns=\"translation\")\n",
    "vi_en_dataset.save_to_disk(\"datasets/cleaned\")"
   ]
  },
  {
   "cell_type": "markdown",
   "metadata": {},
   "source": [
    "#### 2. Token indexing"
   ]
  },
  {
   "cell_type": "code",
   "execution_count": 6,
   "metadata": {},
   "outputs": [],
   "source": [
    "tokenizer = BPETokenizer()\n",
    "tokenizer.load_state_dict(torch.load(\"tokenizers/bpe-20k.pth\"))\n",
    "vi_en_dataset = load_from_disk(\"datasets/cleaned\")"
   ]
  },
  {
   "cell_type": "code",
   "execution_count": null,
   "metadata": {},
   "outputs": [],
   "source": [
    "def token2idx(batch):\n",
    "    batch[\"ids_vi\"] = (\n",
    "        [tokenizer._st2i[tokenizer.sos]]\n",
    "        + tokenizer(batch[\"vi\"])\n",
    "        + [tokenizer._st2i[tokenizer.eos]]\n",
    "    )\n",
    "    batch[\"ids_en\"] = tokenizer(batch[\"en\"])\n",
    "\n",
    "    return batch\n",
    "\n",
    "\n",
    "vi_en_ids = vi_en_dataset.map(\n",
    "    token2idx, remove_columns=vi_en_dataset.column_names[\"train\"]\n",
    ")"
   ]
  },
  {
   "cell_type": "code",
   "execution_count": 9,
   "metadata": {},
   "outputs": [],
   "source": [
    "max_length = 256"
   ]
  },
  {
   "cell_type": "code",
   "execution_count": 5,
   "metadata": {},
   "outputs": [
    {
     "name": "stderr",
     "output_type": "stream",
     "text": [
      "Loading cached processed dataset at /media/4TDISK/vinhdq/transformers/experiments/en-vi-translation/datasets/cleaned/train/cache-cd00f4074883befb.arrow\n"
     ]
    },
    {
     "name": "stderr",
     "output_type": "stream",
     "text": [
      "Loading cached processed dataset at /media/4TDISK/vinhdq/transformers/experiments/en-vi-translation/datasets/cleaned/test/cache-1a03afa89389bcff.arrow\n"
     ]
    }
   ],
   "source": [
    "vi_en_ids = vi_en_ids.filter(\n",
    "    lambda batch: 2 < len(batch[\"ids_vi\"]) <= max_length\n",
    "    and 1 <= len(batch[\"ids_en\"]) <= max_length\n",
    ")"
   ]
  },
  {
   "cell_type": "code",
   "execution_count": null,
   "metadata": {},
   "outputs": [],
   "source": [
    "train, val = vi_en_ids[\"train\"].train_test_split(test_size=0.01).values()\n",
    "vi_en_ids.update({\"train\": train, \"val\": val})\n",
    "vi_en_ids.save_to_disk(\"datasets/processed_ids_splits_20k\")"
   ]
  },
  {
   "cell_type": "markdown",
   "metadata": {},
   "source": [
    "#### 3. Experiments"
   ]
  },
  {
   "cell_type": "code",
   "execution_count": 4,
   "metadata": {},
   "outputs": [
    {
     "data": {
      "text/plain": [
       "DatasetDict({\n",
       "    train: Dataset({\n",
       "        features: ['ids_vi', 'ids_en'],\n",
       "        num_rows: 131804\n",
       "    })\n",
       "    test: Dataset({\n",
       "        features: ['ids_vi', 'ids_en'],\n",
       "        num_rows: 1268\n",
       "    })\n",
       "    val: Dataset({\n",
       "        features: ['ids_vi', 'ids_en'],\n",
       "        num_rows: 1332\n",
       "    })\n",
       "})"
      ]
     },
     "execution_count": 4,
     "metadata": {},
     "output_type": "execute_result"
    }
   ],
   "source": [
    "vi_en_ids = load_from_disk(\"datasets/processed_ids_splits_20k\")\n",
    "vi_en_ids"
   ]
  },
  {
   "cell_type": "code",
   "execution_count": 7,
   "metadata": {},
   "outputs": [
    {
     "name": "stdout",
     "output_type": "stream",
     "text": [
      "in any war today , most of the casualties are civilians , mainly women and children . they are collateral damage .\n"
     ]
    }
   ],
   "source": [
    "print(\"\".join(tokenizer.decode(vi_en_ids[\"train\"][\"ids_en\"][33])))"
   ]
  },
  {
   "cell_type": "code",
   "execution_count": 10,
   "metadata": {},
   "outputs": [
    {
     "name": "stdout",
     "output_type": "stream",
     "text": [
      "Total: 1,531,936 parameters.\n",
      "Trainable: 1,531,936 parameters.\n"
     ]
    }
   ],
   "source": [
    "device = torch.device(\"cuda:0\" if torch.cuda.is_available() else \"cpu\")\n",
    "\n",
    "model_args = VanillaTransformerArgs(\n",
    "    vocab_size=len(tokenizer),\n",
    "    n_heads=4,\n",
    "    n_blocks=2,\n",
    "    d_model=64,\n",
    "    d_ff=4 * 64,\n",
    "    d_k=64 // 4,\n",
    "    d_v=64 // 4,\n",
    "    max_length=max_length,\n",
    "    p_drop=0.1,\n",
    ")\n",
    "\n",
    "model = Transformer(model_args).to(device)\n",
    "count_params(model)\n",
    "\n",
    "optimizer = Adam(model.parameters(), lr=0.0002, betas=(0.98, 0.99))\n",
    "scheduler = ExponentialLR(optimizer, 0.99**0.125)\n",
    "loss_fn = nn.CrossEntropyLoss(ignore_index=tokenizer._st2i[tokenizer.pad])"
   ]
  },
  {
   "cell_type": "code",
   "execution_count": 11,
   "metadata": {},
   "outputs": [],
   "source": [
    "lre = torch.linspace(-6, -0.6, 1000)"
   ]
  },
  {
   "cell_type": "code",
   "execution_count": null,
   "metadata": {},
   "outputs": [],
   "source": [
    "tp_collate = TextPairDataCollate(tokenizer)\n",
    "\n",
    "val_dl = DataLoader(\n",
    "    TextPairDataset(vi_en_ids[\"val\"][\"ids_en\"][:10], vi_en_ids[\"val\"][\"ids_vi\"][:10]),\n",
    "    batch_size=32,\n",
    "    pin_memory=True,\n",
    "    shuffle=False,\n",
    "    collate_fn=tp_collate,\n",
    ")\n",
    "\n",
    "losses = []\n",
    "lrs = []\n",
    "i = 0\n",
    "while i < len(lre):\n",
    "    for src, src_lens, tgt, tgt_lens in val_dl:\n",
    "        src, src_lens, tgt, tgt_lens = (\n",
    "            src.to(device),\n",
    "            src_lens.to(device),\n",
    "            tgt.to(device),\n",
    "            tgt_lens.to(device),\n",
    "        )\n",
    "\n",
    "        src_mask = create_pad_mask(src_lens)\n",
    "        tgt_0 = tgt[:, :-1]\n",
    "        tgt_0_mask = create_subsequent_mask(\n",
    "            tgt_lens, pad_mask=create_pad_mask(tgt_lens)\n",
    "        )\n",
    "        tgt_1 = tgt[:, 1:].contiguous().view(-1)\n",
    "\n",
    "        optimizer.param_groups[0][\"lr\"] = math.exp(lre[i])\n",
    "        logits = model(src, src_mask, tgt_0, tgt_0_mask)\n",
    "        loss = loss_fn(logits.view(-1, logits.size(-1)), tgt_1)\n",
    "        optimizer.zero_grad()\n",
    "        loss.backward()\n",
    "        optimizer.step()\n",
    "\n",
    "        print(optimizer.param_groups[0][\"lr\"])\n",
    "\n",
    "        losses.append(loss.item())\n",
    "        lrs.append(lre[i])\n",
    "        i += 1\n",
    "        if i == len(lre):\n",
    "            break"
   ]
  },
  {
   "cell_type": "code",
   "execution_count": 13,
   "metadata": {},
   "outputs": [
    {
     "data": {
      "text/plain": [
       "[<matplotlib.lines.Line2D at 0x7f32a7c92940>]"
      ]
     },
     "execution_count": 13,
     "metadata": {},
     "output_type": "execute_result"
    },
    {
     "data": {
      "image/png": "[encoded data removed]",
      "text/plain": [
       "<Figure size 640x480 with 1 Axes>"
      ]
     },
     "metadata": {},
     "output_type": "display_data"
    }
   ],
   "source": [
    "plt.plot(lrs, losses)"
   ]
  },
  {
   "cell_type": "markdown",
   "metadata": {},
   "source": [
    "### Test tokenizer"
   ]
  },
  {
   "cell_type": "code",
   "execution_count": 5,
   "metadata": {},
   "outputs": [
    {
     "name": "stderr",
     "output_type": "stream",
     "text": [
      "Building vocabulary...: 100%|██████████| 100/100 [00:00<00:00, 9523.98it/s]\n"
     ]
    }
   ],
   "source": [
    "raw_corpus = [\n",
    "    \"This is the Hugging Face Course.\",\n",
    "    \"This chapter is about tokenization.\",\n",
    "    \"This section shows several tokenizer algorithms.\",\n",
    "    \"Hopefully, you will be able to understand how they are trained and generate tokens.\",\n",
    "]\n",
    "tknr = BPETokenizer(raw_corpus, target_size=100)"
   ]
  },
  {
   "cell_type": "code",
   "execution_count": 3,
   "metadata": {},
   "outputs": [],
   "source": [
    "tknr = BPETokenizer()\n",
    "tknr.load_state_dict(torch.load(\"tokenizers/bpe.pth\"))"
   ]
  },
  {
   "cell_type": "code",
   "execution_count": 6,
   "metadata": {},
   "outputs": [
    {
     "name": "stdout",
     "output_type": "stream",
     "text": [
      "['<unk>', 's', 'o', 's', '<unk>', ' H', '<unk>', 'm', ' ', 'n', 'a', 'y', ' c', '<unk>', ' ', '<unk>', '<unk>', ' ', 'n', '<unk>', ' th', '<unk>', ' ', 'n', '<unk>', 'y', ' th', '<unk>', 'i', ',', ' ', 'm', 'a', 'i', ' ', '<unk>', 'e', 'm', ' t', 'i', '<unk>', 'p', ' ', '<unk>', '<unk>', ' ', '<unk>', 'e', 'o', 's', '<unk>', ' ', '<unk>', 'p', 'a', 'd', '<unk>']\n"
     ]
    }
   ],
   "source": [
    "print(\n",
    "    tknr.decode(\n",
    "        tknr(\n",
    "            [\n",
    "                \"<sos> Hôm nay cứ để nó thế này thôi, mai xem tiếp :D <eos> <pad>\",\n",
    "                \"To continue, we need to apply that merge in our splits dictionary. Let’s write another function for this:\",\n",
    "            ]\n",
    "        )\n",
    "    )[0]\n",
    ")"
   ]
  },
  {
   "cell_type": "code",
   "execution_count": null,
   "metadata": {},
   "outputs": [
    {
     "name": "stdout",
     "output_type": "stream",
     "text": [
      "0.6363636363636364\n",
      "0.6363636363636364\n"
     ]
    }
   ],
   "source": [
    "a = [1, 3, 5, 6, 9, 7, 8, 9, 8, 10, 8]\n",
    "b = [1, 3, 5, 6, 8, 10, 3, 8]\n",
    "\n",
    "print(bleu_score([a], [b], tknr))\n",
    "print(sentence_bleu([b], a, (1.0,)))"
   ]
  },
  {
   "cell_type": "markdown",
   "metadata": {},
   "source": [
    "### Test training"
   ]
  },
  {
   "cell_type": "code",
   "execution_count": 14,
   "metadata": {},
   "outputs": [
    {
     "name": "stdout",
     "output_type": "stream",
     "text": [
      "Total: 15,333 parameters.\n",
      "Trainable: 15,333 parameters.\n"
     ]
    }
   ],
   "source": [
    "device = torch.device(\"cuda:0\" if torch.cuda.is_available() else \"cpu\")\n",
    "\n",
    "model_args = VanillaTransformerArgs(\n",
    "    vocab_size=21,\n",
    "    n_heads=4,\n",
    "    n_blocks=2,\n",
    "    d_model=16,\n",
    "    d_ff=4 * 16,\n",
    "    d_k=16 // 4,\n",
    "    d_v=16 // 4,\n",
    "    max_length=20,\n",
    "    p_drop=0.2,\n",
    ")\n",
    "\n",
    "\n",
    "model = Transformer(model_args).to(device)\n",
    "count_params(model)\n",
    "\n",
    "optimizer = Adam(model.parameters(), lr=0.002, betas=(0.98, 0.99), weight_decay=0.01)\n",
    "scheduler = ExponentialLR(optimizer, 0.999**0.125)\n",
    "loss_fn = nn.CrossEntropyLoss(ignore_index=0)"
   ]
  },
  {
   "cell_type": "code",
   "execution_count": 15,
   "metadata": {},
   "outputs": [],
   "source": [
    "sample_data = torch.arange(1, 21).view(-1, 10).to(device)\n",
    "sample_lens = torch.LongTensor([10] * 2).to(device)\n",
    "sample_mask1 = create_pad_mask(sample_lens).to(device)\n",
    "sample_mask2 = create_subsequent_mask(sample_lens - 1).to(device)"
   ]
  },
  {
   "cell_type": "code",
   "execution_count": null,
   "metadata": {},
   "outputs": [],
   "source": [
    "model.train()\n",
    "for i in range(2000):\n",
    "    logits = model(sample_data, sample_mask1, sample_data[:, :-1], sample_mask2)\n",
    "    #    print(logits.argmax(-1))\n",
    "    loss = loss_fn(logits.reshape(-1, logits.size(-1)), sample_data[:, 1:].reshape(-1))\n",
    "    optimizer.zero_grad()\n",
    "    loss.backward()\n",
    "    optimizer.step()\n",
    "    print(loss.item())\n",
    "    scheduler.step()"
   ]
  },
  {
   "cell_type": "code",
   "execution_count": 17,
   "metadata": {},
   "outputs": [
    {
     "name": "stdout",
     "output_type": "stream",
     "text": [
      "tensor([[ 2,  3,  4,  5,  6,  7,  8,  9, 10,  5,  6,  7,  8,  9, 10]],\n",
      "       device='cuda:0')\n"
     ]
    }
   ],
   "source": [
    "src_data = torch.arange(8, 18).unsqueeze(0).to(device)\n",
    "src_lens = torch.LongTensor([10]).to(device)\n",
    "src_mask = create_pad_mask(src_lens).to(device)\n",
    "\n",
    "tgt_data = torch.LongTensor([[2, 3, 4]]).to(device)\n",
    "tgt_lens = torch.LongTensor([3]).to(device)\n",
    "tgt_mask = create_subsequent_mask(tgt_lens).to(device)\n",
    "\n",
    "model.eval()\n",
    "with torch.inference_mode():\n",
    "    encoder_outputs = model.encode(src_data, src_mask)\n",
    "    for i in range(12):\n",
    "        logits = model.generate(tgt_data, tgt_mask, encoder_outputs, src_mask)\n",
    "        # print(logits.argmax(-1))\n",
    "        n = logits.softmax(-1).argmax(-1)[:, [-1]]\n",
    "        tgt_data = torch.cat([tgt_data, n], dim=1).to(device)\n",
    "        tgt_lens += 1\n",
    "        tgt_mask = create_subsequent_mask(tgt_lens).to(device)\n",
    "\n",
    "print(tgt_data)"
   ]
  },
  {
   "cell_type": "markdown",
   "metadata": {},
   "source": [
    "### Test trained model"
   ]
  },
  {
   "cell_type": "code",
   "execution_count": 2,
   "metadata": {},
   "outputs": [],
   "source": [
    "tokenizer = BPETokenizer()\n",
    "tokenizer.load_state_dict(torch.load(\"tokenizers/bpe-20k.pth\"))"
   ]
  },
  {
   "cell_type": "code",
   "execution_count": 3,
   "metadata": {},
   "outputs": [],
   "source": [
    "max_length = 256\n",
    "device = \"cuda\" if torch.cuda.is_available() else \"cpu\"\n",
    "vocab_size = len(tokenizer)"
   ]
  },
  {
   "cell_type": "code",
   "execution_count": 4,
   "metadata": {},
   "outputs": [
    {
     "name": "stderr",
     "output_type": "stream",
     "text": [
      "Loading cached processed dataset at /media/4TDISK/vinhdq/transformers/experiments/en-vi-translation/datasets/processed_ids_splits_20k/train/cache-7b83163e58bc9652.arrow\n",
      "Loading cached processed dataset at /media/4TDISK/vinhdq/transformers/experiments/en-vi-translation/datasets/processed_ids_splits_20k/test/cache-bc0e3500dc9f3bb7.arrow\n",
      "Loading cached processed dataset at /media/4TDISK/vinhdq/transformers/experiments/en-vi-translation/datasets/processed_ids_splits_20k/val/cache-bfbe0133f43a0ea4.arrow\n"
     ]
    }
   ],
   "source": [
    "vi_en_ids = load_from_disk(\"datasets/processed_ids_splits_20k\")\n",
    "\n",
    "vi_en_ids = vi_en_ids.filter(\n",
    "    lambda batch: 2 < len(batch[\"ids_vi\"]) <= max_length\n",
    "    and 1 <= len(batch[\"ids_en\"]) <= max_length\n",
    ")"
   ]
  },
  {
   "cell_type": "code",
   "execution_count": 6,
   "metadata": {},
   "outputs": [],
   "source": [
    "model_args = VanillaTransformerArgs(\n",
    "    vocab_size=vocab_size,\n",
    "    n_heads=4,\n",
    "    n_blocks=4,\n",
    "    d_model=128,\n",
    "    d_ff=4 * 128,\n",
    "    d_k=32,\n",
    "    d_v=32,\n",
    "    max_length=max_length,\n",
    "    p_drop=0.1,\n",
    "    bias=False,\n",
    ")\n",
    "\n",
    "model = Transformer(model_args).to(device)"
   ]
  },
  {
   "cell_type": "markdown",
   "metadata": {},
   "source": [
    "#### 1. Test model's capability of overfitting (val set)"
   ]
  },
  {
   "cell_type": "code",
   "execution_count": null,
   "metadata": {},
   "outputs": [],
   "source": [
    "model.load_state_dict(\n",
    "    torch.load(f\"checkpoints/translation-{model_args.d_model}-{model_args.n_blocks}-{model_args.n_heads}-{model_args.vocab_size//1000}k-overfit.pth\")\n",
    ")\n",
    "_ = model.eval()"
   ]
  },
  {
   "cell_type": "code",
   "execution_count": 6,
   "metadata": {},
   "outputs": [],
   "source": [
    "val_ds = TextPairDataset(vi_en_ids[\"val\"][\"ids_en\"], vi_en_ids[\"val\"][\"ids_vi\"])"
   ]
  },
  {
   "cell_type": "code",
   "execution_count": 9,
   "metadata": {},
   "outputs": [
    {
     "name": "stdout",
     "output_type": "stream",
     "text": [
      "so , last month , the encyclopaedia britannica announced that it is going out of print after 244 years , which made me nostalgic , because i remember playing a game with the colossal encyclopedia set in my hometown library back when i was a kid , maybe 12 years old .\n",
      "<sos>khoảng tháng trước , bách khoa toàn thư britannica thông báo rằng nó sẽ ngừng in xuất bản sau 244 năm , điều đó khiến tôi luyến tiếc , bởi vì tôi nhớ chơi một trò chơi với bách khoa toàn thư khổng lồ được đặt trong thư viện thành phố quê nhà của tôi khi tôi là một đứa trẻ , tầm 12 tuổi .<eos>\n",
      "<sos>khoảng tháng trước , bách khoa toàn thư britannica thông báo rằng nó sẽ ngừng in xuất bản sau 244 năm , điều đó khiến tôi luyến tiếc , bởi vì tôi nhớ chơi một trò chơi với bách khoa toàn thư khổng lồ được đặt trong thư viện thành phố quê nhà của tôi khi tôi là một đứa trẻ , tầm 12 tuổi .<eos>\n"
     ]
    }
   ],
   "source": [
    "src, src_len, tgt, tgt_len = val_ds[random.randint(0, len(val_ds) - 1)]\n",
    "hehe = \"\".join(tokenizer.decode(src))\n",
    "print(hehe)\n",
    "print(\"\".join(tokenizer.decode(tgt)))\n",
    "print(translate_one_sentence(model, tokenizer, device, hehe, 100))"
   ]
  },
  {
   "cell_type": "markdown",
   "metadata": {},
   "source": [
    "#### 2. Actual test"
   ]
  },
  {
   "cell_type": "code",
   "execution_count": 7,
   "metadata": {},
   "outputs": [],
   "source": [
    "model.load_state_dict(\n",
    "    torch.load(\n",
    "        f\"checkpoints/translation-{model_args.d_model}-{model_args.n_blocks}-{model_args.n_heads}-{model_args.vocab_size//1000}k.pth\"\n",
    "    )\n",
    ")\n",
    "_ = model.eval()"
   ]
  },
  {
   "cell_type": "code",
   "execution_count": 8,
   "metadata": {},
   "outputs": [
    {
     "data": {
      "text/plain": [
       "'<sos>trong trường học , chúng tôi đã dành rất nhiều thời gian nghiên cứu lịch sử kim loại cắt ghép xương và chúng tôi chưa bao giờ học được nhiều về thế giới bên ngoài , ngoại trừ nước mỹ , hàn quốc , nhật bản là kẻ thù .<eos>'"
      ]
     },
     "execution_count": 8,
     "metadata": {},
     "output_type": "execute_result"
    }
   ],
   "source": [
    "translate_one_sentence(\n",
    "    model,\n",
    "    tokenizer,\n",
    "    device,\n",
    "    \"In school , we spent a lot of time studying the history of Kim Il-Sung , but we never learned much about the outside world , except that America , South Korea , Japan are the enemies .\",\n",
    "    max_tokens=100,\n",
    "    do_sample=True,\n",
    "    temperature=0.5,\n",
    "    top_k=20,\n",
    ")"
   ]
  },
  {
   "cell_type": "code",
   "execution_count": 9,
   "metadata": {},
   "outputs": [],
   "source": [
    "test_ds = TextPairDataset(vi_en_ids[\"test\"][\"ids_en\"], vi_en_ids[\"test\"][\"ids_vi\"])"
   ]
  },
  {
   "cell_type": "code",
   "execution_count": 10,
   "metadata": {},
   "outputs": [
    {
     "data": {
      "application/vnd.jupyter.widget-view+json": {
       "model_id": "94364054e78949f4b07cd16e9fafb5fd",
       "version_major": 2,
       "version_minor": 0
      },
      "text/plain": [
       "  0%|          | 0/1268 [00:00<?, ?it/s]"
      ]
     },
     "metadata": {},
     "output_type": "display_data"
    }
   ],
   "source": [
    "orgs = []\n",
    "hypos = []\n",
    "refs = []\n",
    "\n",
    "for i in tqdm(range(len(test_ds))):\n",
    "    src, src_len, tgt, tgt_len = test_ds[i]\n",
    "\n",
    "    orgs.append((\"\".join(tokenizer.decode(src)).strip().split()))\n",
    "\n",
    "    hypos.append(\n",
    "        translate_one_sentence(\n",
    "            model,\n",
    "            tokenizer,\n",
    "            device,\n",
    "            \"\".join(tokenizer.decode(src)),\n",
    "            max_tokens=max_length,\n",
    "        )\n",
    "        .replace(\"<sos>\", \"\")\n",
    "        .replace(\"<eos>\", \"\")\n",
    "        .strip()\n",
    "        .split()\n",
    "    )\n",
    "\n",
    "    refs.append(\n",
    "        (\n",
    "            \"\".join(tokenizer.decode(tgt))\n",
    "            .replace(\"<sos>\", \"\")\n",
    "            .replace(\"<eos>\", \"\")\n",
    "            .strip()\n",
    "            .split()\n",
    "        )\n",
    "    )"
   ]
  },
  {
   "cell_type": "code",
   "execution_count": 12,
   "metadata": {},
   "outputs": [
    {
     "name": "stdout",
     "output_type": "stream",
     "text": [
      "translation-128-4-4-20k-vocab-no-bias: 0.23028\n"
     ]
    }
   ],
   "source": [
    "print(\n",
    "    f\"translation-{model_args.d_model}-{model_args.n_blocks}-{model_args.n_heads}-{model_args.vocab_size//1000}k-vocab{'' if model_args.bias else '-no-bias'}: {sum(sentence_bleu([ref], hypo) for ref, hypo in zip(refs, hypos)) / len(refs):.5}\"\n",
    ")"
   ]
  },
  {
   "cell_type": "code",
   "execution_count": 22,
   "metadata": {},
   "outputs": [
    {
     "name": "stdout",
     "output_type": "stream",
     "text": [
      "our shared spaces can better reflect what matters to us as individuals and as a community , and with more ways to share our hopes , fears and stories , the people around us can not only help us make better places , they can help us lead better lives .\n",
      "những không gian chung của chúng ta có thể phản ánh những gì quan trọng hơn đối với chúng ta với cá nhân và với tư cách cộng đồng , và với nhiều cách để chia sẻ niềm tin , nổi sợ và những câu chuyện , những người xung quanh chúng ta không chỉ giúp chúng ta làm nên những nơi tốt đẹp hơn , mà họ có thể giúp chúng ta sống tốt hơn .\n",
      "những không gian được chia sẻ của chúng ta có thể tốt hơn được phản ánh về những điều xảy ra cho chúng ta như là những cá thể và như là một cộng đồng , và với nhiều cách hơn để chia sẻ hy vọng , nỗi sợ hãi và những câu chuyện , những người xung quanh chúng ta không chỉ có thể giúp chúng ta làm những nơi tốt đẹp hơn , họ có thể giúp chúng ta dẫn dắt cuộc sống tốt hơn .\n"
     ]
    }
   ],
   "source": [
    "a = random.randint(0, len(refs) - 1)\n",
    "print(\" \".join(orgs[a]))\n",
    "print(\" \".join(hypos[a]))\n",
    "print(\" \".join(refs[a]))"
   ]
  }
 ],
 "metadata": {
  "kernelspec": {
   "display_name": ".env",
   "language": "python",
   "name": "python3"
  },
  "language_info": {
   "codemirror_mode": {
    "name": "ipython",
    "version": 3
   },
   "file_extension": ".py",
   "mimetype": "text/x-python",
   "name": "python",
   "nbconvert_exporter": "python",
   "pygments_lexer": "ipython3",
   "version": "3.8.16"
  },
  "orig_nbformat": 4
 },
 "nbformat": 4,
 "nbformat_minor": 2
}
