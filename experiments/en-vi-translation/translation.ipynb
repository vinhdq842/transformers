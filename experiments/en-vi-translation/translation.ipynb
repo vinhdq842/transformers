{
 "cells": [
  {
   "cell_type": "code",
   "execution_count": 1,
   "metadata": {},
   "outputs": [],
   "source": [
    "import torch\n",
    "from torch import nn\n",
    "import transformers\n",
    "from datasets import load_dataset\n",
    "import html"
   ]
  },
  {
   "cell_type": "code",
   "execution_count": null,
   "metadata": {},
   "outputs": [],
   "source": [
    "vi_en_dataset = load_dataset(\n",
    "    \"mt_eng_vietnamese\", \"iwslt2015-vi-en\", cache_dir=\"dataset\"\n",
    ")\n",
    "\n",
    "\n",
    "def unescape(batch):\n",
    "    batch[\"vi\"] = html.unescape(batch[\"translation\"][\"vi\"])\n",
    "    batch[\"en\"] = html.unescape(batch[\"translation\"][\"en\"])\n",
    "    return batch\n",
    "\n",
    "\n",
    "del vi_en_dataset[\"validation\"]\n",
    "vi_en_dataset = vi_en_dataset.map(unescape, remove_columns=\"translation\")\n",
    "vi_en_dataset.save_to_disk(\"dataset/processed\")"
   ]
  },
  {
   "cell_type": "code",
   "execution_count": 78,
   "metadata": {},
   "outputs": [],
   "source": [
    "from datasets import load_from_disk\n",
    "\n",
    "vi_en_dataset = load_from_disk(\"dataset/processed\")"
   ]
  }
 ],
 "metadata": {
  "kernelspec": {
   "display_name": ".env",
   "language": "python",
   "name": "python3"
  },
  "language_info": {
   "codemirror_mode": {
    "name": "ipython",
    "version": 3
   },
   "file_extension": ".py",
   "mimetype": "text/x-python",
   "name": "python",
   "nbconvert_exporter": "python",
   "pygments_lexer": "ipython3",
   "version": "3.8.16"
  },
  "orig_nbformat": 4
 },
 "nbformat": 4,
 "nbformat_minor": 2
}
