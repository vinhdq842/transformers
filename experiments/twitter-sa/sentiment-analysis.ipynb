{
 "cells": [
  {
   "cell_type": "code",
   "execution_count": 1,
   "metadata": {},
   "outputs": [],
   "source": [
    "import re\n",
    "import sys\n",
    "import unicodedata\n",
    "\n",
    "import pandas as pd\n",
    "import torch\n",
    "from ipywidgets import interact_manual\n",
    "from nltk.tokenize import word_tokenize\n",
    "from sklearn.model_selection import train_test_split\n",
    "from torch import nn\n",
    "from torch.utils.data import DataLoader\n",
    "from tqdm.notebook import tqdm\n",
    "\n",
    "# setting path\n",
    "sys.path.append(\"../../\")\n",
    "from models import EncoderArgs, EncoderClassifier\n",
    "from utils.datasets import TweetDataset\n",
    "from utils.trainer import TrainingArgs, eval, train_and_val"
   ]
  },
  {
   "attachments": {},
   "cell_type": "markdown",
   "metadata": {},
   "source": [
    "Data source: https://www.kaggle.com/datasets/saurabhshahane/twitter-sentiment-dataset"
   ]
  },
  {
   "cell_type": "code",
   "execution_count": null,
   "metadata": {},
   "outputs": [],
   "source": [
    "# data = pd.read_csv(\"datasets/Twitter_Data.csv\")\n",
    "# data.drop_duplicates(subset=\"clean_text\", inplace=True)"
   ]
  },
  {
   "cell_type": "code",
   "execution_count": null,
   "metadata": {},
   "outputs": [],
   "source": [
    "# data.isnull().sum()"
   ]
  },
  {
   "cell_type": "code",
   "execution_count": null,
   "metadata": {},
   "outputs": [],
   "source": [
    "# data.dropna(inplace=True)\n",
    "# data.isnull().sum()"
   ]
  },
  {
   "cell_type": "code",
   "execution_count": 2,
   "metadata": {},
   "outputs": [],
   "source": [
    "def preprocess_text(text: str):\n",
    "    text = unicodedata.normalize(\"NFC\", text)\n",
    "    text = re.sub(r\"&[a-z]+?;\", \"\", text)\n",
    "    text = re.sub(r\"<[^>]+>\", \" _html_tag_ \", text)\n",
    "    text = re.sub(\n",
    "        r\"[a-zA-Z0-9_-][.a-zA-Z0-9_-]*@[a-zA-Z0-9_-]+(\\.[a-zA-Z0-9_-]+){1,3}\",\n",
    "        \" _email_ \",\n",
    "        text,\n",
    "    )\n",
    "    text = re.sub(r\"https?://[a-zA-Z0-9-_&.?/%=]*\", \" _url_link_ \", text)\n",
    "    text = re.sub(r\"#[_a-zA-Z0-9]+\", \" _hash_tag_ \", text)\n",
    "    text = re.sub(r\"@[_a-zA-Z0-9]+\", \" _tag_ \", text)\n",
    "    text = re.sub(r\"[0-9][0-9.,]*\", \" _num_ \", text)\n",
    "    text = re.sub(r\"[^\\sa-zA-Z0-9.,!;:/\\'^()=<>_?]\", \"\", text)\n",
    "    text = re.sub(r\"(\\s*[.!?:;-]\\s*)+\", r\" \\1 \", text)\n",
    "\n",
    "    return \" \".join(word_tokenize(text)).lower()"
   ]
  },
  {
   "cell_type": "code",
   "execution_count": 3,
   "metadata": {},
   "outputs": [
    {
     "data": {
      "application/vnd.jupyter.widget-view+json": {
       "model_id": "f2d73f781db84ab9ad89b9f2e316da08",
       "version_major": 2,
       "version_minor": 0
      },
      "text/plain": [
       "interactive(children=(Text(value='', description='text'), Button(description='Run Interact', style=ButtonStyle…"
      ]
     },
     "metadata": {},
     "output_type": "display_data"
    }
   ],
   "source": [
    "@interact_manual\n",
    "def _(text=\"\"):\n",
    "    return preprocess_text(text)"
   ]
  },
  {
   "cell_type": "code",
   "execution_count": null,
   "metadata": {},
   "outputs": [],
   "source": [
    "# tqdm.pandas()\n",
    "# data[\"clean_text\"] = data[\"clean_text\"].progress_apply(\n",
    "#     lambda x: preprocess_text(str(x))\n",
    "# )\n",
    "# data[\"category\"] = data[\"category\"].progress_apply(lambda x: int(x + 1))\n",
    "# train_data, val_test_data = train_test_split(data, test_size=0.2, random_state=42)\n",
    "# val_data, test_data = train_test_split(val_test_data, test_size=0.5, random_state=42)\n",
    "# train_data.to_csv(\"train_pr.csv\", index=False)\n",
    "# val_data.to_csv(\"val_pr.csv\", index=False)\n",
    "# test_data.to_csv(\"test_pr.csv\", index=False)"
   ]
  },
  {
   "cell_type": "code",
   "execution_count": 4,
   "metadata": {},
   "outputs": [],
   "source": [
    "train_data = pd.read_csv(\"datasets/train_pr.csv\")\n",
    "val_data = pd.read_csv(\"datasets/val_pr.csv\")\n",
    "test_data = pd.read_csv(\"datasets/test_pr.csv\")"
   ]
  },
  {
   "cell_type": "code",
   "execution_count": 5,
   "metadata": {},
   "outputs": [],
   "source": [
    "from collections import Counter\n",
    "\n",
    "PAD = \"[PAD]\"\n",
    "UNK = \"[UNK]\"\n",
    "\n",
    "\n",
    "def build_vocab(df, min_freq=2):\n",
    "    counter = Counter()\n",
    "    for tweet in df.itertuples():\n",
    "        counter.update(str(tweet.clean_text).split())\n",
    "\n",
    "    vocab = sorted([w for w, c in counter.items() if c >= min_freq])\n",
    "\n",
    "    w2i = {w: i for i, w in enumerate([PAD, UNK] + vocab)}\n",
    "    i2w = {v: k for k, v in w2i.items()}\n",
    "\n",
    "    return w2i, i2w\n",
    "\n",
    "\n",
    "w2i, i2w = build_vocab(train_data)"
   ]
  },
  {
   "cell_type": "code",
   "execution_count": 6,
   "metadata": {},
   "outputs": [],
   "source": [
    "model_args = EncoderArgs(\n",
    "    vocab_size=len(w2i),\n",
    "    n_heads=8,\n",
    "    n_blocks=4,\n",
    "    d_model=128,\n",
    "    d_head=128 // 8,\n",
    "    bias=False,\n",
    "    p_drop=0.4,\n",
    "    max_length=128,\n",
    "    n_classes=3,\n",
    ")"
   ]
  },
  {
   "cell_type": "code",
   "execution_count": 7,
   "metadata": {},
   "outputs": [
    {
     "data": {
      "text/plain": [
       "device(type='cuda')"
      ]
     },
     "execution_count": 7,
     "metadata": {},
     "output_type": "execute_result"
    }
   ],
   "source": [
    "device = torch.device(\"cuda\" if torch.cuda.is_available() else \"cpu\")\n",
    "device"
   ]
  },
  {
   "cell_type": "code",
   "execution_count": 8,
   "metadata": {},
   "outputs": [],
   "source": [
    "clf = EncoderClassifier(model_args).to(device)\n",
    "\n",
    "for p in clf.parameters():\n",
    "    if p.dim() > 1:\n",
    "        nn.init.xavier_uniform_(p)"
   ]
  },
  {
   "cell_type": "code",
   "execution_count": 9,
   "metadata": {},
   "outputs": [],
   "source": [
    "batch_size = 128\n",
    "train_dl = TweetDataset(train_data, w2i, model_args.max_length)\n",
    "train_dl = DataLoader(\n",
    "    train_dl,\n",
    "    shuffle=True,\n",
    "    batch_size=batch_size,\n",
    "    collate_fn=train_dl.collate_fn,\n",
    ")\n",
    "val_dl = TweetDataset(val_data, w2i, model_args.max_length)\n",
    "val_dl = DataLoader(val_dl, batch_size=batch_size * 2, collate_fn=val_dl.collate_fn)\n",
    "test_dl = DataLoader(\n",
    "    TweetDataset(test_data, w2i, model_args.max_length),\n",
    "    batch_size=batch_size * 2,\n",
    "    collate_fn=val_dl.collate_fn,\n",
    ")\n",
    "\n",
    "def loss_batch_cls(\n",
    "    batch,\n",
    "    model,\n",
    "    device,\n",
    "    loss_fn,\n",
    "):\n",
    "    y, x, x_len = batch[0].to(device), batch[1].to(device), batch[2].to(device)\n",
    "    logits = model(x, x_len)\n",
    "    return loss_fn(logits, y), {\"acc\": (y == logits.argmax(-1)).sum().item()}\n",
    "\n",
    "\n",
    "loss_fn = nn.CrossEntropyLoss()\n",
    "\n",
    "training_args = TrainingArgs(\n",
    "    loss_batch=lambda batch, model, device: loss_batch_cls(\n",
    "        batch, model, device, loss_fn\n",
    "    ),\n",
    "    train_dl=train_dl,\n",
    "    val_dl=val_dl,\n",
    "    test_dl=test_dl,\n",
    "    n_epochs=100,\n",
    "    early_stopping_patience=5,\n",
    "    device=device,\n",
    ")"
   ]
  },
  {
   "cell_type": "code",
   "execution_count": 10,
   "metadata": {},
   "outputs": [],
   "source": [
    "from torch.optim import Adam\n",
    "from torch.optim.lr_scheduler import ExponentialLR\n",
    "\n",
    "optimizer = Adam(clf.parameters(), lr=0.0008, betas=(0.9, 0.98), weight_decay=0.001)\n",
    "scheduler = ExponentialLR(optimizer, 0.999**0.125)"
   ]
  },
  {
   "cell_type": "code",
   "execution_count": null,
   "metadata": {},
   "outputs": [],
   "source": [
    "epochs = 100\n",
    "model_name = \"encoder_clf\"\n",
    "train_and_val(\n",
    "    clf,\n",
    "    optimizer,\n",
    "    scheduler,\n",
    "    training_args,\n",
    "    model_name=model_name,\n",
    ")"
   ]
  },
  {
   "cell_type": "code",
   "execution_count": 12,
   "metadata": {},
   "outputs": [
    {
     "name": "stdout",
     "output_type": "stream",
     "text": [
      "Evaluation:\n",
      "\tTest loss: 0.114752 | Test acc: 0.965883\n"
     ]
    },
    {
     "data": {
      "text/plain": [
       "{'test': {'loss': [0.11475180799607188],\n",
       "  'metrics': [{'acc': 0.9658832914033257}]}}"
      ]
     },
     "execution_count": 12,
     "metadata": {},
     "output_type": "execute_result"
    }
   ],
   "source": [
    "clf.load_state_dict(torch.load(f\"checkpoints/{model_name}.pth\"))\n",
    "eval(\n",
    "    clf,\n",
    "    training_args.loss_batch,\n",
    "    training_args.test_dl,\n",
    "    training_args.device,\n",
    ")"
   ]
  },
  {
   "cell_type": "code",
   "execution_count": 13,
   "metadata": {},
   "outputs": [
    {
     "name": "stdout",
     "output_type": "stream",
     "text": [
      "              precision    recall  f1-score   support\n",
      "\n",
      "           0       0.94      0.92      0.93      3590\n",
      "           1       0.99      0.98      0.99      5527\n",
      "           2       0.96      0.98      0.97      7180\n",
      "\n",
      "    accuracy                           0.97     16297\n",
      "   macro avg       0.96      0.96      0.96     16297\n",
      "weighted avg       0.97      0.97      0.97     16297\n",
      "\n",
      "[[0.92284123 0.00389972 0.07325905]\n",
      " [0.01157952 0.97919305 0.00922743]\n",
      " [0.02047354 0.00236769 0.97715877]]\n"
     ]
    }
   ],
   "source": [
    "from sklearn.metrics import classification_report, confusion_matrix\n",
    "\n",
    "y_true = []\n",
    "y_pred = []\n",
    "val_corr = 0\n",
    "with torch.inference_mode():\n",
    "    for y, x, x_len in test_dl:\n",
    "        y, x, x_len = y.to(device), x.to(device), x_len.to(device)\n",
    "\n",
    "        y_hat = clf(x, x_len).argmax(-1)\n",
    "        val_corr += (y == y_hat).sum().item()\n",
    "        y_true += y.tolist()\n",
    "        y_pred += y_hat.tolist()\n",
    "\n",
    "print(classification_report(y_true, y_pred))\n",
    "print(confusion_matrix(y_true, y_pred, normalize=\"true\"))"
   ]
  }
 ],
 "metadata": {
  "kernelspec": {
   "display_name": ".env",
   "language": "python",
   "name": "python3"
  },
  "language_info": {
   "codemirror_mode": {
    "name": "ipython",
    "version": 3
   },
   "file_extension": ".py",
   "mimetype": "text/x-python",
   "name": "python",
   "nbconvert_exporter": "python",
   "pygments_lexer": "ipython3",
   "version": "3.8.16"
  },
  "orig_nbformat": 4
 },
 "nbformat": 4,
 "nbformat_minor": 2
}
