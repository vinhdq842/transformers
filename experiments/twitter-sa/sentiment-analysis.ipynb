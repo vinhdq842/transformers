{
 "cells": [
  {
   "cell_type": "code",
   "execution_count": 1,
   "metadata": {},
   "outputs": [],
   "source": [
    "import torch\n",
    "from torch import nn\n",
    "from tqdm.notebook import tqdm\n",
    "import pandas as pd\n",
    "from sklearn.model_selection import train_test_split\n",
    "from nltk.tokenize import word_tokenize\n",
    "import re\n",
    "from ipywidgets import interact_manual\n",
    "import unicodedata\n",
    "import sys\n",
    "\n",
    "# setting path\n",
    "sys.path.append(\"../../\")\n",
    "from modules.blocks import EncoderBlock\n",
    "from modules.layers import PositionalEncoding, Embedding\n",
    "from modules.utils import create_pad_mask"
   ]
  },
  {
   "attachments": {},
   "cell_type": "markdown",
   "metadata": {},
   "source": [
    "Data source: https://www.kaggle.com/datasets/saurabhshahane/twitter-sentiment-dataset"
   ]
  },
  {
   "cell_type": "code",
   "execution_count": 2,
   "metadata": {},
   "outputs": [],
   "source": [
    "# data = pd.read_csv(\"datasets/Twitter_Data.csv\")\n",
    "# data.drop_duplicates(subset=\"clean_text\", inplace=True)"
   ]
  },
  {
   "cell_type": "code",
   "execution_count": 3,
   "metadata": {},
   "outputs": [],
   "source": [
    "# data.isnull().sum()"
   ]
  },
  {
   "cell_type": "code",
   "execution_count": 4,
   "metadata": {},
   "outputs": [],
   "source": [
    "# data.dropna(inplace=True)\n",
    "# data.isnull().sum()"
   ]
  },
  {
   "cell_type": "code",
   "execution_count": 5,
   "metadata": {},
   "outputs": [],
   "source": [
    "def preprocess_text(text: str):\n",
    "    text = unicodedata.normalize(\"NFC\", text)\n",
    "    text = re.sub(r\"&[a-z]+?;\", \"\", text)\n",
    "    text = re.sub(r\"<[^>]+>\", \" _html_tag_ \", text)\n",
    "    text = re.sub(\n",
    "        r\"[a-zA-Z0-9_-][.a-zA-Z0-9_-]*@[a-zA-Z0-9_-]+(\\.[a-zA-Z0-9_-]+){1,3}\", \" _email_ \", text\n",
    "    )\n",
    "    text = re.sub(r\"https?://[a-zA-Z0-9-_&.?/%=]*\", \" _url_link_ \", text)\n",
    "    text = re.sub(r\"#[_a-zA-Z0-9]+\", \" _hash_tag_ \", text)\n",
    "    text = re.sub(r\"@[_a-zA-Z0-9]+\", \" _tag_ \", text)\n",
    "    text = re.sub(r\"[0-9][0-9.,]*\", \" _num_ \", text)\n",
    "    text = re.sub(r\"[^\\sa-zA-Z0-9.,!;:/\\'^()=<>_?]\", \"\", text)\n",
    "    text = re.sub(r\"(\\s*[.!?:;-]\\s*)+\", r\" \\1 \", text)\n",
    "\n",
    "    return \" \".join(word_tokenize(text)).lower()"
   ]
  },
  {
   "cell_type": "code",
   "execution_count": 6,
   "metadata": {},
   "outputs": [
    {
     "data": {
      "application/vnd.jupyter.widget-view+json": {
       "model_id": "d31eacdd8c0f4878a3f8ff8642948090",
       "version_major": 2,
       "version_minor": 0
      },
      "text/plain": [
       "interactive(children=(Text(value='', description='text'), Button(description='Run Interact', style=ButtonStyle…"
      ]
     },
     "metadata": {},
     "output_type": "display_data"
    }
   ],
   "source": [
    "@interact_manual\n",
    "def _(text=\"\"):\n",
    "    return preprocess_text(text)"
   ]
  },
  {
   "cell_type": "code",
   "execution_count": 7,
   "metadata": {},
   "outputs": [],
   "source": [
    "# tqdm.pandas()\n",
    "# data[\"clean_text\"] = data[\"clean_text\"].progress_apply(\n",
    "#     lambda x: preprocess_text(str(x))\n",
    "# )\n",
    "# data[\"category\"] = data[\"category\"].progress_apply(lambda x: int(x + 1))\n",
    "# train_data, val_test_data = train_test_split(data, test_size=0.2, random_state=42)\n",
    "# val_data, test_data = train_test_split(val_test_data, test_size=0.5, random_state=42)\n",
    "# train_data.to_csv(\"train_pr.csv\", index=False)\n",
    "# val_data.to_csv(\"val_pr.csv\", index=False)\n",
    "# test_data.to_csv(\"test_pr.csv\", index=False)"
   ]
  },
  {
   "cell_type": "code",
   "execution_count": 8,
   "metadata": {},
   "outputs": [],
   "source": [
    "train_data = pd.read_csv(\"datasets/train_pr.csv\")\n",
    "val_data = pd.read_csv(\"datasets/val_pr.csv\")\n",
    "test_data = pd.read_csv(\"datasets/test_pr.csv\")"
   ]
  },
  {
   "cell_type": "code",
   "execution_count": 9,
   "metadata": {},
   "outputs": [],
   "source": [
    "from collections import Counter\n",
    "\n",
    "PAD = \"[PAD]\"\n",
    "UNK = \"[UNK]\"\n",
    "\n",
    "\n",
    "def build_vocab(df, min_freq=2):\n",
    "    counter = Counter()\n",
    "    for tweet in df.itertuples():\n",
    "        counter.update(str(tweet.clean_text).split())\n",
    "\n",
    "    vocab = sorted([w for w, c in counter.items() if c >= min_freq])\n",
    "\n",
    "    w2i = {w: i for i, w in enumerate([PAD, UNK] + vocab)}\n",
    "    i2w = {v: k for k, v in w2i.items()}\n",
    "\n",
    "    return w2i, i2w\n",
    "\n",
    "\n",
    "w2i, i2w = build_vocab(train_data)"
   ]
  },
  {
   "cell_type": "code",
   "execution_count": 10,
   "metadata": {},
   "outputs": [],
   "source": [
    "from torch.utils.data import DataLoader, Dataset\n",
    "\n",
    "\n",
    "class TweetDataset(Dataset):\n",
    "    def __init__(self, df, vocab):\n",
    "        self.df = df\n",
    "        self.vocab = vocab\n",
    "\n",
    "    def __len__(self):\n",
    "        return len(self.df)\n",
    "\n",
    "    def __getitem__(self, index: int):\n",
    "        text = str(self.df.clean_text.values[index]).split()\n",
    "\n",
    "        return (\n",
    "            self.df.category.values[index],\n",
    "            [self.vocab.get(w, self.vocab[UNK]) for w in text],\n",
    "            len(text),\n",
    "        )\n",
    "\n",
    "\n",
    "class TweetDataCollate:\n",
    "    def __init__(self, max_length, vocab):\n",
    "        self.max_length = max_length\n",
    "        self.vocab = vocab\n",
    "\n",
    "    def __call__(self, batch):\n",
    "        labels = []\n",
    "        ids = []\n",
    "        lens = []\n",
    "\n",
    "        for label, idx, l in batch:\n",
    "            labels.append(label)\n",
    "            ids.append(\n",
    "                idx[: self.max_length]\n",
    "                + max(0, self.max_length - len(idx)) * [self.vocab[PAD]]\n",
    "            )\n",
    "            lens.append(l if l <= self.max_length else self.max_length)\n",
    "\n",
    "        return torch.LongTensor(labels), torch.LongTensor(ids), torch.LongTensor(lens)"
   ]
  },
  {
   "cell_type": "code",
   "execution_count": 12,
   "metadata": {},
   "outputs": [],
   "source": [
    "vocab_size = len(w2i)\n",
    "max_length = 128\n",
    "n_heads = 8\n",
    "d_model = 128\n",
    "n_blocks = 4\n",
    "d_ff = 512\n",
    "d_k = d_v = d_model // n_heads\n",
    "p_drop = 0.4\n",
    "n_classes = 3\n",
    "batch_size = 128"
   ]
  },
  {
   "cell_type": "code",
   "execution_count": 13,
   "metadata": {},
   "outputs": [],
   "source": [
    "collate = TweetDataCollate(max_length, w2i)\n",
    "train_dl = DataLoader(\n",
    "    TweetDataset(train_data, w2i),\n",
    "    shuffle=True,\n",
    "    batch_size=batch_size,\n",
    "    collate_fn=collate,\n",
    ")\n",
    "val_dl = DataLoader(\n",
    "    TweetDataset(val_data, w2i), batch_size=batch_size * 2, collate_fn=collate\n",
    ")\n",
    "test_dl = DataLoader(\n",
    "    TweetDataset(test_data, w2i), batch_size=batch_size * 2, collate_fn=collate\n",
    ")"
   ]
  },
  {
   "cell_type": "code",
   "execution_count": 14,
   "metadata": {},
   "outputs": [
    {
     "data": {
      "text/plain": [
       "device(type='cuda')"
      ]
     },
     "execution_count": 14,
     "metadata": {},
     "output_type": "execute_result"
    }
   ],
   "source": [
    "device = torch.device(\"cuda\" if torch.cuda.is_available() else \"cpu\")\n",
    "device"
   ]
  },
  {
   "cell_type": "code",
   "execution_count": 15,
   "metadata": {},
   "outputs": [],
   "source": [
    "clf = EncoderClassifier(\n",
    "    vocab_size,\n",
    "    n_heads,\n",
    "    max_length,\n",
    "    n_blocks,\n",
    "    d_model,\n",
    "    d_ff,\n",
    "    d_k,\n",
    "    d_v,\n",
    "    n_classes,\n",
    "    p_drop,\n",
    ").to(device)\n",
    "\n",
    "for p in clf.parameters():\n",
    "    if p.dim() > 1:\n",
    "        nn.init.xavier_uniform_(p)"
   ]
  },
  {
   "cell_type": "code",
   "execution_count": 16,
   "metadata": {},
   "outputs": [],
   "source": [
    "from torch.optim import Adam\n",
    "from torch.optim.lr_scheduler import ExponentialLR\n",
    "\n",
    "optimizer = Adam(clf.parameters(), lr=0.0008, betas=(0.9, 0.98), weight_decay=0.001)\n",
    "loss_fn = nn.CrossEntropyLoss()\n",
    "scheduler = ExponentialLR(optimizer, 0.999**0.125)"
   ]
  },
  {
   "cell_type": "code",
   "execution_count": 17,
   "metadata": {},
   "outputs": [],
   "source": [
    "import os\n",
    "\n",
    "os.makedirs(\"checkpoints\", exist_ok=True)\n",
    "\n",
    "\n",
    "def train_and_eval(\n",
    "    model,\n",
    "    optimizer,\n",
    "    loss_fn,\n",
    "    scheduler,\n",
    "    epochs,\n",
    "    train_dl,\n",
    "    val_dl,\n",
    "    early_stopping=5,\n",
    "    model_name=\"sample_model\",\n",
    "):\n",
    "    p_bar = tqdm(total=len(train_dl))\n",
    "\n",
    "    best_val_loss = 25042001\n",
    "    patience = 0\n",
    "\n",
    "    for epoch in range(epochs):\n",
    "        train_loss = 0\n",
    "        train_corr = 0\n",
    "        val_loss = 0\n",
    "        val_corr = 0\n",
    "\n",
    "        model.train()\n",
    "        for y, x, x_len in train_dl:\n",
    "            y, x, x_len = y.to(device), x.to(device), x_len.to(device)\n",
    "\n",
    "            logits = model(x, x_len)\n",
    "            loss = loss_fn(logits, y)\n",
    "            optimizer.zero_grad()\n",
    "            loss.backward()\n",
    "            optimizer.step()\n",
    "\n",
    "            train_loss += loss.item()\n",
    "            train_corr += (y == logits.argmax(-1)).sum().item()\n",
    "            p_bar.update(1)\n",
    "        scheduler.step()\n",
    "\n",
    "        model.eval()\n",
    "        with torch.inference_mode():\n",
    "            for y, x, x_len in val_dl:\n",
    "                y, x, x_len = y.to(device), x.to(device), x_len.to(device)\n",
    "\n",
    "                logits = model(x, x_len)\n",
    "\n",
    "                val_loss += loss_fn(logits, y).item()\n",
    "                val_corr += (y == logits.argmax(-1)).sum().item()\n",
    "\n",
    "        train_loss /= len(train_dl)\n",
    "        val_loss /= len(val_dl)\n",
    "        train_acc = train_corr / len(train_dl.dataset)\n",
    "        val_acc = val_corr / len(val_dl.dataset)\n",
    "\n",
    "        if val_loss > best_val_loss:\n",
    "            patience += 1\n",
    "        else:\n",
    "            torch.save(\n",
    "                model.state_dict(),\n",
    "                f\"checkpoints/{model_name}.pth\",\n",
    "            )\n",
    "            patience = 0\n",
    "            best_val_loss = val_loss\n",
    "\n",
    "        print(\n",
    "            f\"Epoch {epoch+1}:\\n Train loss: {train_loss:.6f} - Train acc: {train_acc:.6f}\\n Val loss: {val_loss:.6f} - Val acc: {val_acc:.6f}\"\n",
    "        )\n",
    "\n",
    "        if patience >= early_stopping:\n",
    "            print(\n",
    "                f\"Stopped since val loss has not improved in the last {early_stopping} epochs...\"\n",
    "            )\n",
    "            break\n",
    "\n",
    "        p_bar.reset()"
   ]
  },
  {
   "cell_type": "code",
   "execution_count": 18,
   "metadata": {},
   "outputs": [
    {
     "data": {
      "application/vnd.jupyter.widget-view+json": {
       "model_id": "04bd30d44e4a4a8e952fa6a403a866be",
       "version_major": 2,
       "version_minor": 0
      },
      "text/plain": [
       "  0%|          | 0/1019 [00:00<?, ?it/s]"
      ]
     },
     "metadata": {},
     "output_type": "display_data"
    },
    {
     "name": "stdout",
     "output_type": "stream",
     "text": [
      "Epoch 1:\n",
      " Train loss: 0.505428 - Train acc: 0.837607\n",
      " Val loss: 0.236478 - Val acc: 0.938455\n",
      "Epoch 2:\n",
      " Train loss: 0.251264 - Train acc: 0.933707\n",
      " Val loss: 0.204853 - Val acc: 0.940603\n",
      "Epoch 3:\n",
      " Train loss: 0.236071 - Train acc: 0.935992\n",
      " Val loss: 0.203866 - Val acc: 0.942934\n",
      "Epoch 4:\n",
      " Train loss: 0.232603 - Train acc: 0.936982\n",
      " Val loss: 0.190742 - Val acc: 0.943487\n",
      "Epoch 5:\n",
      " Train loss: 0.226595 - Train acc: 0.938424\n",
      " Val loss: 0.189299 - Val acc: 0.945818\n",
      "Epoch 6:\n",
      " Train loss: 0.224444 - Train acc: 0.938431\n",
      " Val loss: 0.201386 - Val acc: 0.947414\n",
      "Epoch 7:\n",
      " Train loss: 0.223790 - Train acc: 0.938370\n",
      " Val loss: 0.192810 - Val acc: 0.945021\n",
      "Epoch 8:\n",
      " Train loss: 0.223068 - Train acc: 0.938186\n",
      " Val loss: 0.182286 - Val acc: 0.946800\n",
      "Epoch 9:\n",
      " Train loss: 0.221698 - Train acc: 0.939099\n",
      " Val loss: 0.189435 - Val acc: 0.946739\n",
      "Epoch 10:\n",
      " Train loss: 0.221247 - Train acc: 0.938915\n",
      " Val loss: 0.175689 - Val acc: 0.948825\n",
      "Epoch 11:\n",
      " Train loss: 0.220197 - Train acc: 0.939697\n",
      " Val loss: 0.191323 - Val acc: 0.946309\n",
      "Epoch 12:\n",
      " Train loss: 0.219876 - Train acc: 0.938953\n",
      " Val loss: 0.187091 - Val acc: 0.947659\n",
      "Epoch 13:\n",
      " Train loss: 0.219458 - Train acc: 0.939467\n",
      " Val loss: 0.203352 - Val acc: 0.946248\n",
      "Epoch 14:\n",
      " Train loss: 0.218788 - Train acc: 0.940334\n",
      " Val loss: 0.199587 - Val acc: 0.947414\n",
      "Epoch 15:\n",
      " Train loss: 0.216323 - Train acc: 0.940403\n",
      " Val loss: 0.184888 - Val acc: 0.946493\n",
      "Stopped since val loss has not improved in the last 5 epochs...\n"
     ]
    }
   ],
   "source": [
    "epochs = 100\n",
    "model_name = \"encoder_clf\"\n",
    "train_and_eval(\n",
    "    clf, optimizer, loss_fn, scheduler, epochs, train_dl, val_dl, model_name=model_name\n",
    ")"
   ]
  },
  {
   "cell_type": "code",
   "execution_count": 19,
   "metadata": {},
   "outputs": [
    {
     "name": "stdout",
     "output_type": "stream",
     "text": [
      "              precision    recall  f1-score   support\n",
      "\n",
      "           0       0.92      0.88      0.90      3590\n",
      "           1       0.99      0.97      0.98      5527\n",
      "           2       0.93      0.96      0.95      7180\n",
      "\n",
      "    accuracy                           0.95     16297\n",
      "   macro avg       0.95      0.94      0.94     16297\n",
      "weighted avg       0.95      0.95      0.95     16297\n",
      "\n",
      "[[0.88133705 0.00891365 0.1097493 ]\n",
      " [0.00796092 0.97412701 0.01791207]\n",
      " [0.03356546 0.00640669 0.96002786]]\n"
     ]
    }
   ],
   "source": [
    "from sklearn.metrics import classification_report, confusion_matrix\n",
    "\n",
    "pretrained = EncoderClassifier(\n",
    "    vocab_size,\n",
    "    n_heads,\n",
    "    max_length,\n",
    "    n_blocks,\n",
    "    d_model,\n",
    "    d_ff,\n",
    "    d_k,\n",
    "    d_v,\n",
    "    n_classes,\n",
    "    p_drop,\n",
    ")\n",
    "\n",
    "pretrained.load_state_dict(torch.load(f\"checkpoints/{model_name}.pth\"))\n",
    "pretrained.to(device)\n",
    "pretrained.eval()\n",
    "\n",
    "y_true = []\n",
    "y_pred = []\n",
    "val_corr = 0\n",
    "with torch.inference_mode():\n",
    "    for y, x, x_len in test_dl:\n",
    "        y, x, x_len = y.to(device), x.to(device), x_len.to(device)\n",
    "\n",
    "        y_hat = pretrained(x, x_len).argmax(-1)\n",
    "        val_corr += (y == y_hat).sum().item()\n",
    "        y_true += y.tolist()\n",
    "        y_pred += y_hat.tolist()\n",
    "\n",
    "print(classification_report(y_true, y_pred))\n",
    "print(confusion_matrix(y_true, y_pred, normalize=\"true\"))"
   ]
  }
 ],
 "metadata": {
  "kernelspec": {
   "display_name": ".env",
   "language": "python",
   "name": "python3"
  },
  "language_info": {
   "codemirror_mode": {
    "name": "ipython",
    "version": 3
   },
   "file_extension": ".py",
   "mimetype": "text/x-python",
   "name": "python",
   "nbconvert_exporter": "python",
   "pygments_lexer": "ipython3",
   "version": "3.8.16"
  },
  "orig_nbformat": 4
 },
 "nbformat": 4,
 "nbformat_minor": 2
}
